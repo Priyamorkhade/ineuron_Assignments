{
 "cells": [
  {
   "cell_type": "markdown",
   "id": "58b1b8c8",
   "metadata": {},
   "source": [
    "# 1. What is the primary goal of Object-Oriented Programming (OOP)?\n"
   ]
  },
  {
   "cell_type": "markdown",
   "id": "c1d9c990",
   "metadata": {},
   "source": [
    "The main concept of OOPs is to bind the data and the functions that work on that together as a single unit so that no other part of the code can access this data.\n",
    "    Object Oriented programming language is based on classes and objects and the main feature of oops are encapsulation, abstraction, inheritance and polymorphism(that is pillars of oops)."
   ]
  },
  {
   "cell_type": "markdown",
   "id": "66faa0f3",
   "metadata": {},
   "source": [
    "# 2. What is an object in Python?\n"
   ]
  },
  {
   "cell_type": "markdown",
   "id": "69354511",
   "metadata": {},
   "source": [
    "Object is a specific entity. It is an instance or blueprint of class.\n",
    "\n",
    "syntax to create an object: objectName = ClassName().\n",
    "we can use objects to access the class attributes.\n",
    "\n",
    "We can create multiple objects from single class."
   ]
  },
  {
   "cell_type": "code",
   "execution_count": 6,
   "id": "12018964",
   "metadata": {},
   "outputs": [],
   "source": [
    "class Person:\n",
    "    name=\"Priya\"\n",
    "\n",
    "person1=Person() #person1 is a object of class Person()"
   ]
  },
  {
   "cell_type": "markdown",
   "id": "5d99a21a",
   "metadata": {},
   "source": [
    "# 3. What is a class in Python?"
   ]
  },
  {
   "cell_type": "markdown",
   "id": "9a46e177",
   "metadata": {},
   "source": [
    "A class is considered as a blueprint of objects.\n",
    "We can think of the class as a sketch (prototype) of a house. It contains all the details about the floors, doors, windows, etc. Based on these descriptions we build the house. House is the object.\n",
    "\n",
    "Since many houses can be made from the same description, we can create many objects from a class.\n",
    "\n",
    "we use class keyword to create class. Syntax:-\n",
    "\n",
    "class ClassName:\n",
    "    # class definition "
   ]
  },
  {
   "cell_type": "code",
   "execution_count": 5,
   "id": "f0b1a1f3",
   "metadata": {},
   "outputs": [],
   "source": [
    "class Person:\n",
    "    name=\"Priya\"\n",
    "    age=30\n",
    "    "
   ]
  },
  {
   "cell_type": "markdown",
   "id": "f35925db",
   "metadata": {},
   "source": [
    "# 4. What are attributes and methods in a class?"
   ]
  },
  {
   "cell_type": "markdown",
   "id": "9596d089",
   "metadata": {},
   "source": [
    "Attributes: The variables inside a class are called attributes.like name, age, gender etc. are the attributes of class person.\n",
    "\n",
    "Methods: A Function defined inside a class is called a method.\n",
    "\n",
    "In below example:we created a class named Person with\n",
    "Attributes: first_name and last_name\n",
    "Method: display_name()"
   ]
  },
  {
   "cell_type": "code",
   "execution_count": 13,
   "id": "18fd55ee",
   "metadata": {},
   "outputs": [
    {
     "name": "stdout",
     "output_type": "stream",
     "text": [
      "Name of Person = Priya Sakkalkar\n"
     ]
    }
   ],
   "source": [
    "class Person:\n",
    "    first_name=\"Priya \"\n",
    "    last_name=\"Sakkalkar\"\n",
    "    \n",
    "    def display_name(self):\n",
    "        print(\"Name of Person =\", self.first_name + self.last_name)\n",
    "\n",
    "# create object of Person class\n",
    "person1= Person()\n",
    "\n",
    "# access method inside class\n",
    "person1.display_name()\n"
   ]
  },
  {
   "cell_type": "markdown",
   "id": "28d5f0ae",
   "metadata": {},
   "source": [
    "# 5. What is the difference between class variables and instance variables in Python?"
   ]
  },
  {
   "cell_type": "markdown",
   "id": "dcfd96bc",
   "metadata": {},
   "source": [
    "class variables :\n",
    "\n",
    "          1. Class variables are defined within the class but outside of any class methods.\t\n",
    "          2. Changes made to the class variable affect all instances.\n",
    "          3. Class variables can be initialized either inside the class definition or outside the class definition.\n",
    "          4. Class variables are accessed using the class name, followed by the variable name.\n",
    "          5. Class variables are useful for storing data that is shared among all instances of a class, such as constants or default values.\n",
    "          \n",
    "-------------------------------------------------------------------------------   \n",
    "instance variables :\n",
    "\n",
    "          1.Instance variables are defined within class methods, typically the constructor.\n",
    "          2.Changes made to the instance variable does not affect all instances.\n",
    "          3. Instance variables are typically initialized in the constructor of the class.\n",
    "          4.Instance variables are accessed using the instance name, followed by the variable name.\n",
    "          5. Instance variables are used to store data that is unique to each instance of a class, such as object properties.\n",
    "          "
   ]
  },
  {
   "cell_type": "markdown",
   "id": "0d63f034",
   "metadata": {},
   "source": [
    "# 6. What is the purpose of the self parameter in Python class methods?"
   ]
  },
  {
   "cell_type": "markdown",
   "id": "3f1dd87b",
   "metadata": {},
   "source": [
    "SELF represents the instance of class. This handy keyword allows you to access variables, attributes, and methods of a defined class in Python. The self parameter doesn't have to be named “self,” as you can call it by any other name."
   ]
  },
  {
   "cell_type": "markdown",
   "id": "c88461bc",
   "metadata": {},
   "source": [
    "# 7. For a library management system, you have to design the \"Book\" class with OOP principles in mind. The “Book” class will have following attributes:\n",
    "\n",
    "    a. title: Represents the title of the book.\n",
    "    b. author: Represents the author(s) of the book.\n",
    "    c. isbn: Represents the ISBN (International Standard Book Number) of the book.\n",
    "    d. publication_year: Represents the year of publication of the book.\n",
    "    e. available_copies: Represents the number of copies available for checkout.\n",
    "    \n",
    "The class will also include the following methods:\n",
    "\n",
    "    a. check_out(self): Decrements the available copies by one if there are copies available for checkout.\n",
    "    b. return_book(self): Increments the available copies by one when a book is returned.\n",
    "    c. display_book_info(self): Displays the information about the book, including its attributes and the number of available copies."
   ]
  },
  {
   "cell_type": "code",
   "execution_count": 43,
   "id": "3e88a6e7",
   "metadata": {},
   "outputs": [],
   "source": [
    "class Book:\n",
    "    def __init__(self,title,author,isbn,publication_year,available_copies):\n",
    "        self.title=title\n",
    "        self.author=author\n",
    "        self.isbn=isbn\n",
    "        self.publication_year=publication_year\n",
    "        self.available_copies=available_copies\n",
    "    \n",
    "    def check_out(self):\n",
    "        if self.available_copies > 0:\n",
    "            self.available_copies -= 1\n",
    "            print(f'Book \"{self.title}\" checked out successfully.')\n",
    "        else:\n",
    "            print(f'Sorry, no copies of \"{self.title}\" are currently available for checkout.')\n",
    "\n",
    "    def return_book(self):\n",
    "        self.available_copies += 1\n",
    "        print(f'Book \"{self.title}\" returned successfully.')\n",
    "\n",
    "    \n",
    "    def display_book_info(self):\n",
    "        print(f'Title: {self.title}')\n",
    "        print(f'Author: {self.author}')\n",
    "        print(f'ISBN: {self.isbn}')\n",
    "        print(f'Publication Year: {self.publication_year}')\n",
    "        print(f'Available Copies: {self.available_copies}')\n",
    "\n",
    "    \n",
    "    "
   ]
  },
  {
   "cell_type": "code",
   "execution_count": 44,
   "id": "84d0c157",
   "metadata": {},
   "outputs": [],
   "source": [
    "book=Book(\"Mrutyunjay\",\"Shivaji Savant\",9788171890026,2020,55)"
   ]
  },
  {
   "cell_type": "code",
   "execution_count": 45,
   "id": "f8040d82",
   "metadata": {},
   "outputs": [
    {
     "name": "stdout",
     "output_type": "stream",
     "text": [
      "Book \"Mrutyunjay\" checked out successfully.\n"
     ]
    }
   ],
   "source": [
    "book.check_out()"
   ]
  },
  {
   "cell_type": "code",
   "execution_count": 47,
   "id": "5e51281c",
   "metadata": {},
   "outputs": [
    {
     "name": "stdout",
     "output_type": "stream",
     "text": [
      "Title: Mrutyunjay\n",
      "Author: Shivaji Savant\n",
      "ISBN: 9788171890026\n",
      "Publication Year: 2020\n",
      "Available Copies: 54\n"
     ]
    }
   ],
   "source": [
    "book.display_book_info()"
   ]
  },
  {
   "cell_type": "code",
   "execution_count": 49,
   "id": "1751879c",
   "metadata": {},
   "outputs": [
    {
     "name": "stdout",
     "output_type": "stream",
     "text": [
      "Book \"Mrutyunjay\" returned successfully.\n"
     ]
    }
   ],
   "source": [
    "book.return_book()"
   ]
  },
  {
   "cell_type": "code",
   "execution_count": 50,
   "id": "cbf4f0a1",
   "metadata": {},
   "outputs": [
    {
     "name": "stdout",
     "output_type": "stream",
     "text": [
      "Title: Mrutyunjay\n",
      "Author: Shivaji Savant\n",
      "ISBN: 9788171890026\n",
      "Publication Year: 2020\n",
      "Available Copies: 55\n"
     ]
    }
   ],
   "source": [
    "book.display_book_info()"
   ]
  },
  {
   "cell_type": "markdown",
   "id": "cea5b7e1",
   "metadata": {},
   "source": [
    "# 8. For a ticket booking system, you have to design the \"Ticket\" class with OOP principles in mind. The “Ticket” class should have the following attributes:\n",
    "\n",
    "    a. ticket_id: Represents the unique identifier for the ticket.\n",
    "    b. event_name: Represents the name of the event.\n",
    "    c. event_date: Represents the date of the event.\n",
    "    d. venue: Represents the venue of the event.\n",
    "    e. seat_number: Represents the seat number associated with the ticket.\n",
    "    f. price: Represents the price of the ticket.\n",
    "    g. is_reserved: Represents the reservation status of the ticket.\n",
    "    \n",
    "     The class also includes the following methods:\n",
    "     \n",
    "    a. reserve_ticket(self): Marks the ticket as reserved if it is not already reserved.\n",
    "    b. cancel_reservation(self): Cancels the reservation of the ticket if it is already reserved.\n",
    "    c. display_ticket_info(self): Displays the information about the ticket, including its\n",
    "        attributes and reservation status."
   ]
  },
  {
   "cell_type": "code",
   "execution_count": 70,
   "id": "f2ebbe61",
   "metadata": {},
   "outputs": [],
   "source": [
    "class Ticket:\n",
    "    def __init__(self,ticket_id,event_name,event_date,venue,seat_number,price,is_reserved):\n",
    "        self.ticket_id=ticket_id\n",
    "        self.event_name=event_name\n",
    "        self.event_date=event_date\n",
    "        self.venue=venue\n",
    "        self.seat_number=seat_number\n",
    "        self.price=price\n",
    "        self.is_reserved=is_reserved\n",
    "        \n",
    "    def reserve_ticket(self):\n",
    "        if self.is_reserved==\"reserved\":\n",
    "            print(\"Ticket {self.ticket_id} is already reserved\")\n",
    "        else:\n",
    "            self.is_reserved=\"reserved\"\n",
    "            print(\"Ticket {self.ticket_id} is reserved now.\")\n",
    "            \n",
    "    def cancel_reservation(self):\n",
    "        if self.is_reserved==\"reserved\":\n",
    "            self.is_reserved=\"Not Reserved\"\n",
    "            print(\"Reservation Canceled succesfully..\")\n",
    "        else:\n",
    "            print(\"Ticket {self.ticket_id} is not reserved\")\n",
    "            \n",
    "    def display_ticket_info(self):\n",
    "            print(f'ticket_id: {self.ticket_id}')\n",
    "            print(f'event_name: {self.event_name}')\n",
    "            print(f'event_date: {self.event_date}')\n",
    "            print(f'venue of the event: {self.venue}')\n",
    "            print(f'seat number : {self.seat_number}')\n",
    "            print(f'Price : {self.price}')\n",
    "            print(f'Status of ticket : {self.is_reserved}')\n",
    "\n",
    "\n",
    "ticket1=Ticket(101,\"Concert\",10/22/2023,\"Ram Nagar Pune\",23101,500,\"reserved\")        "
   ]
  },
  {
   "cell_type": "code",
   "execution_count": 66,
   "id": "99172d47",
   "metadata": {},
   "outputs": [
    {
     "name": "stdout",
     "output_type": "stream",
     "text": [
      "Ticket is already reserved\n"
     ]
    }
   ],
   "source": [
    "ticket1.reserve_ticket()"
   ]
  },
  {
   "cell_type": "code",
   "execution_count": 67,
   "id": "c9ff7cff",
   "metadata": {},
   "outputs": [
    {
     "name": "stdout",
     "output_type": "stream",
     "text": [
      "ticket_id: 101\n",
      "event_name: Dandiya Night\n",
      "event_date: 0.0002246888060036849\n",
      "venue of the event: Ram Nagar Pune\n",
      "seat number : 23101\n",
      "Price : 500\n",
      "Status of ticket : reserved\n"
     ]
    }
   ],
   "source": [
    "ticket1.display_ticket_info()"
   ]
  },
  {
   "cell_type": "code",
   "execution_count": 68,
   "id": "7c25e211",
   "metadata": {},
   "outputs": [
    {
     "name": "stdout",
     "output_type": "stream",
     "text": [
      "Reservation Cancel succesfully..\n"
     ]
    }
   ],
   "source": [
    "ticket1.cancel_reservation()"
   ]
  },
  {
   "cell_type": "code",
   "execution_count": 69,
   "id": "5b002725",
   "metadata": {},
   "outputs": [
    {
     "name": "stdout",
     "output_type": "stream",
     "text": [
      "ticket_id: 101\n",
      "event_name: Dandiya Night\n",
      "event_date: 0.0002246888060036849\n",
      "venue of the event: Ram Nagar Pune\n",
      "seat number : 23101\n",
      "Price : 500\n",
      "Status of ticket : Not Reserved\n"
     ]
    }
   ],
   "source": [
    "ticket1.display_ticket_info()"
   ]
  },
  {
   "cell_type": "markdown",
   "id": "557f9947",
   "metadata": {},
   "source": [
    "# 9. You are creating a shopping cart for an e-commerce website. Using OOP to model the \"ShoppingCart\" functionality the class should contain following attributes and methods:\n",
    "\n",
    "    a. items: Represents the list of items in the shopping cart.\n",
    "    \n",
    "    The class also includes the following methods:\n",
    "    \n",
    "    a. add_item(self, item): Adds an item to the shopping cart by appending it to the list of items.\n",
    "    b. remove_item(self, item): Removes an item from the shopping cart if it exists i the list.\n",
    "    c. view_cart(self): Displays the items currently present in the shopping cart.\n",
    "    d. clear_cart(self): Clears all items from the shopping cart by reassigning an empty list to the items attribute.    "
   ]
  },
  {
   "cell_type": "code",
   "execution_count": 102,
   "id": "0ea398e7",
   "metadata": {},
   "outputs": [],
   "source": [
    "class ShoppingCart:\n",
    "    def __init__(self):\n",
    "        self.item_list=[]\n",
    "        \n",
    "    def add_item(self, item):\n",
    "        self.item_list.append(item)\n",
    "        print(\"Item added succesfully\")\n",
    "        \n",
    "    def remove_item(self, item): \n",
    "        if item in self.item_list:\n",
    "            self.item_list.remove(item)\n",
    "            print(f\" {item}  removed from shopping cart.\")\n",
    "        else:\n",
    "            print(\"item is not in your cart\")\n",
    "    \n",
    "    def view_cart(self):\n",
    "        if not self.item_list:\n",
    "                 print(\"The shopping cart is empty.\")\n",
    "        else:\n",
    "                 for item in self.item_list:\n",
    "                    print(item)\n",
    "            \n",
    "    def clear_cart(self):\n",
    "        self.item_list=[]\n"
   ]
  },
  {
   "cell_type": "code",
   "execution_count": 103,
   "id": "7c46e4f8",
   "metadata": {},
   "outputs": [],
   "source": [
    "cart=ShoppingCart()"
   ]
  },
  {
   "cell_type": "code",
   "execution_count": 104,
   "id": "f767053e",
   "metadata": {},
   "outputs": [
    {
     "name": "stdout",
     "output_type": "stream",
     "text": [
      "Item added succesfully\n",
      "Item added succesfully\n",
      "Item added succesfully\n",
      "Item added succesfully\n"
     ]
    }
   ],
   "source": [
    "cart.add_item(\"Laptop\")\n",
    "cart.add_item(\"charger\")\n",
    "cart.add_item(\"keychain\")\n",
    "cart.add_item(\"lock\")"
   ]
  },
  {
   "cell_type": "code",
   "execution_count": 105,
   "id": "d9d07613",
   "metadata": {},
   "outputs": [
    {
     "name": "stdout",
     "output_type": "stream",
     "text": [
      "Laptop\n",
      "charger\n",
      "keychain\n",
      "lock\n"
     ]
    }
   ],
   "source": [
    "cart.view_cart()"
   ]
  },
  {
   "cell_type": "code",
   "execution_count": 106,
   "id": "fde5b0be",
   "metadata": {},
   "outputs": [
    {
     "name": "stdout",
     "output_type": "stream",
     "text": [
      " lock item removed from shopping cart.\n"
     ]
    }
   ],
   "source": [
    "cart.remove_item(\"lock\")"
   ]
  },
  {
   "cell_type": "code",
   "execution_count": 107,
   "id": "133d9512",
   "metadata": {},
   "outputs": [
    {
     "name": "stdout",
     "output_type": "stream",
     "text": [
      "Laptop\n",
      "charger\n",
      "keychain\n"
     ]
    }
   ],
   "source": [
    "cart.view_cart()"
   ]
  },
  {
   "cell_type": "code",
   "execution_count": 108,
   "id": "6095de6e",
   "metadata": {},
   "outputs": [],
   "source": [
    "cart.clear_cart()"
   ]
  },
  {
   "cell_type": "code",
   "execution_count": 109,
   "id": "8d23ab6a",
   "metadata": {},
   "outputs": [
    {
     "name": "stdout",
     "output_type": "stream",
     "text": [
      "The shopping cart is empty.\n"
     ]
    }
   ],
   "source": [
    "cart.view_cart()"
   ]
  },
  {
   "cell_type": "markdown",
   "id": "5f71d552",
   "metadata": {},
   "source": [
    "# 10. Imagine a school management system. You have to design the \"Student\" class using OOP concepts.The “Student” class has the following attributes:\n",
    " \n",
    "    a. name: Represents the name of the student.\n",
    "    b. age: Represents the age of the student.\n",
    "    c. grade: Represents the grade or class of the student.\n",
    "    d. student_id: Represents the unique identifier for the student.\n",
    "    e. attendance: Represents the attendance record of the student.\n",
    "    \n",
    "    The class should also include the following methods:\n",
    "    \n",
    "    a. update_attendance(self, date, status): Updates the attendance record of the student for a given date with the provided         status (e.g., present or absent).\n",
    "    b. get_attendance(self): Returns the attendance record of the student.\n",
    "    c. get_average_attendance(self): Calculates and returns the average\n",
    "       attendance percentage of the student based on their attendance record.\n"
   ]
  },
  {
   "cell_type": "code",
   "execution_count": 112,
   "id": "2ebf1b46",
   "metadata": {},
   "outputs": [],
   "source": [
    "class Student:\n",
    "    def __init__(self,name,age,grade,student_id):\n",
    "        self.name=name\n",
    "        self.age=age\n",
    "        self.grade=grade\n",
    "        self.student_id=student_id\n",
    "        self.attendance={}\n",
    "        \n",
    "    def update_attendance(self, date, status):\n",
    "        if status.lower() in ['present', 'absent']:\n",
    "            self.attendance[date] = status.lower()\n",
    "            print(f\"Attendance for {self.name} on {date} updated: {status.capitalize()}.\")\n",
    "        else:\n",
    "            print(\"Invalid attendance status. Please use 'present' or 'absent'.\")\n",
    "\n",
    "    def get_attendance(self):\n",
    "        return self.attendance\n",
    "\n",
    "    def get_average_attendance(self):\n",
    "        total_days = len(self.attendance)\n",
    "        present_days = list(self.attendance.values()).count('present')\n",
    "        average_percentage = (present_days / total_days) * 100\n",
    "        print(average_percentage)\n"
   ]
  },
  {
   "cell_type": "code",
   "execution_count": 113,
   "id": "a407bd2b",
   "metadata": {},
   "outputs": [],
   "source": [
    "student1=Student(\"Priya\",15,\"5th\",101)"
   ]
  },
  {
   "cell_type": "code",
   "execution_count": 114,
   "id": "6bc119ba",
   "metadata": {},
   "outputs": [
    {
     "name": "stdout",
     "output_type": "stream",
     "text": [
      "Attendance for Priya on 10/01/2023 updated: Present.\n",
      "Attendance for Priya on 10/02/2023 updated: Absent.\n",
      "Attendance for Priya on 10/03/2023 updated: Present.\n"
     ]
    }
   ],
   "source": [
    "student1.update_attendance(\"10/01/2023\",\"present\")\n",
    "student1.update_attendance(\"10/02/2023\",\"absent\")\n",
    "student1.update_attendance(\"10/03/2023\",\"present\")"
   ]
  },
  {
   "cell_type": "code",
   "execution_count": 115,
   "id": "131e236b",
   "metadata": {},
   "outputs": [
    {
     "data": {
      "text/plain": [
       "{'10/01/2023': 'present', '10/02/2023': 'absent', '10/03/2023': 'present'}"
      ]
     },
     "execution_count": 115,
     "metadata": {},
     "output_type": "execute_result"
    }
   ],
   "source": [
    "student1.get_attendance()"
   ]
  },
  {
   "cell_type": "code",
   "execution_count": 117,
   "id": "103a66a2",
   "metadata": {},
   "outputs": [
    {
     "name": "stdout",
     "output_type": "stream",
     "text": [
      "66.66666666666666\n"
     ]
    }
   ],
   "source": [
    "student1.get_average_attendance()"
   ]
  }
 ],
 "metadata": {
  "kernelspec": {
   "display_name": "Python 3 (ipykernel)",
   "language": "python",
   "name": "python3"
  },
  "language_info": {
   "codemirror_mode": {
    "name": "ipython",
    "version": 3
   },
   "file_extension": ".py",
   "mimetype": "text/x-python",
   "name": "python",
   "nbconvert_exporter": "python",
   "pygments_lexer": "ipython3",
   "version": "3.9.12"
  }
 },
 "nbformat": 4,
 "nbformat_minor": 5
}
