{
 "cells": [
  {
   "cell_type": "markdown",
   "id": "53488965",
   "metadata": {},
   "source": [
    "#                             Python Basic - 2"
   ]
  },
  {
   "cell_type": "markdown",
   "id": "af1b0e61",
   "metadata": {},
   "source": [
    "# Q.1. Create two int type variables, apply addition, subtraction, division and multiplications and store the results in variables. Then print the data in the following format by calling the variables:\n",
    "\n",
    "    First variable is __ & second variable is __.\n",
    "    Addition: __ + __ = __\n",
    "    Subtraction: __ - __ = __\n",
    "    Multiplication: __ * __ = _\n",
    "    Division: __ / __ = _"
   ]
  },
  {
   "cell_type": "code",
   "execution_count": 1,
   "id": "34efd235",
   "metadata": {},
   "outputs": [
    {
     "name": "stdout",
     "output_type": "stream",
     "text": [
      " First variable is 20 & second variable is 80.\n",
      " Addition: 20+80= 100\n",
      " substraction: 20-80= -60\n",
      " Multiplication: 20*80= 1600\n",
      " Division: 20/80= 0.25\n"
     ]
    }
   ],
   "source": [
    "a=20\n",
    "b=80\n",
    "\n",
    "addition=a+b\n",
    "substraction=a-b\n",
    "multiplication=a*b\n",
    "division=a/b\n",
    "\n",
    "print(f\" First variable is {a} & second variable is {b}.\")\n",
    "print(f\" Addition: {a}+{b}= {addition}\")\n",
    "print(f\" substraction: {a}-{b}= {substraction}\")\n",
    "print(f\" Multiplication: {a}*{b}= {multiplication}\")\n",
    "print(f\" Division: {a}/{b}= {division}\")\n"
   ]
  },
  {
   "cell_type": "markdown",
   "id": "45a4572b",
   "metadata": {},
   "source": [
    "# Q.2. What is the difference between the following operators:\n",
    "    (i) ‘/’ & ‘//’\n",
    "    (ii) ‘**’ & ‘^’"
   ]
  },
  {
   "cell_type": "markdown",
   "id": "006a2924",
   "metadata": {},
   "source": [
    "  * (i)\n",
    "      -  '/': This is a division operator used for division purpose and return   always a float value.\n",
    "       \n",
    "      -  '//': This floor division operator is used to return the closest integer value which is less than or equal to a specified expression or value.\n",
    "      \n",
    "  * (ii)\n",
    "      -  '**': Exponentiation operator returns the result of raising the first operand to the power of the second operand. \n",
    "      eg: 2**4 (same as 2*2*2*2*2)\n",
    "      -  '^' : XOR operator used to\tSets each bit to 1 if only one of two bits is 1. eg: 2^2 output is 0 and 3^2 output is 1.\n",
    "      "
   ]
  },
  {
   "cell_type": "code",
   "execution_count": 4,
   "id": "193e318a",
   "metadata": {},
   "outputs": [
    {
     "name": "stdout",
     "output_type": "stream",
     "text": [
      "20/3  = 6.666666666666667\n",
      "20//3 = 6\n",
      "----------------------------------------\n",
      "2**4 = 16\n",
      "2^4  = 6\n"
     ]
    }
   ],
   "source": [
    "#Example (i)\n",
    "a=20\n",
    "b=3\n",
    "\n",
    "print(f\"{a}/{b}  = {a/b}\")   #division operator '/'\n",
    "print(f\"{a}//{b} = {a//b}\") #floor division operator '//'\n",
    "\n",
    "print(\"-\"*40)\n",
    "\n",
    "#Example(ii)\n",
    "\n",
    "a=2\n",
    "b=4\n",
    "\n",
    "print(f\"{a}**{b} = {a**b}\") #Exponentiation operator \n",
    "print(f\"{a}^{b}  = {a^b}\")   #Xor operator"
   ]
  },
  {
   "cell_type": "markdown",
   "id": "dc889a71",
   "metadata": {},
   "source": [
    "# Q.3. List the logical operator."
   ]
  },
  {
   "cell_type": "markdown",
   "id": "fb1b5760",
   "metadata": {},
   "source": [
    "Python has three logical operators: and , or , and not.\n",
    "\n",
    "* and : returns True if both statements are true.\n",
    "\n",
    "\n",
    "* or : Returns True if one of the statements is true.\n",
    "\n",
    "\n",
    "* not : Reverse the result, returns False if the result is true."
   ]
  },
  {
   "cell_type": "code",
   "execution_count": 5,
   "id": "36a57849",
   "metadata": {},
   "outputs": [
    {
     "name": "stdout",
     "output_type": "stream",
     "text": [
      "True\n",
      "----------------------------------------\n",
      "True\n",
      "----------------------------------------\n",
      "False\n"
     ]
    }
   ],
   "source": [
    "#use of 'and' operator\n",
    "p = 11\n",
    "\n",
    "print(p > 10 and p < 15) #returns True because 11 is greater than 10 AND 5 is less than 15\n",
    "\n",
    "print(\"-\"*40)\n",
    "\n",
    "#use of 'or' operator\n",
    "print(p > 10 or p < 15) #returns True because one of the conditions are true (11 is greater than 10, but 11 is not less than 15)\n",
    "\n",
    "print(\"-\"*40)\n",
    "\n",
    "#use of 'not' operator\n",
    "print(not(p > 10 and p < 15))# returns False because not is used to reverse the result\n"
   ]
  },
  {
   "cell_type": "markdown",
   "id": "98166af3",
   "metadata": {},
   "source": [
    "# Q.4. Explain right shift operator and left shift operator with examples."
   ]
  },
  {
   "cell_type": "markdown",
   "id": "00a9de2f",
   "metadata": {},
   "source": [
    "# * right shift operator :\n",
    "    - (>>) Each position that the bits are shifted right is equivalent to dividing the number by 2. \n",
    "        eg: if we have the binary number 10101010 and we shift it two positions to the right, we get the binary number 00101010, which is equivalent to the decimal number 42 >> 2 = 10.\n",
    "\n",
    "\n",
    "\n",
    "* left shift operator :\n",
    "    - The left shift means that shift each of the bits is in binary representation toward the left. \n",
    "      eg: when we say left shift 5 by one position. We will shift each of the bits by one position towards the left. So after shifting the number 5 towards the left by one position, the number obtained is 10 "
   ]
  },
  {
   "cell_type": "code",
   "execution_count": 6,
   "id": "6436079d",
   "metadata": {},
   "outputs": [
    {
     "data": {
      "text/plain": [
       "10"
      ]
     },
     "execution_count": 6,
     "metadata": {},
     "output_type": "execute_result"
    }
   ],
   "source": [
    "42>>2"
   ]
  },
  {
   "cell_type": "code",
   "execution_count": 7,
   "id": "88043d9f",
   "metadata": {},
   "outputs": [
    {
     "data": {
      "text/plain": [
       "10"
      ]
     },
     "execution_count": 7,
     "metadata": {},
     "output_type": "execute_result"
    }
   ],
   "source": [
    "5<<1"
   ]
  },
  {
   "cell_type": "markdown",
   "id": "1666c34e",
   "metadata": {},
   "source": [
    "# Q.5. Create a list containing int type data of length 15. Then write a code to check if 10 is present in the list or not."
   ]
  },
  {
   "cell_type": "code",
   "execution_count": 8,
   "id": "3a197baf",
   "metadata": {},
   "outputs": [
    {
     "name": "stdout",
     "output_type": "stream",
     "text": [
      "10 is present in the list\n"
     ]
    }
   ],
   "source": [
    "lst=[2,45,67,18,35,10,55,11,3,6,18,10,22,15,14]\n",
    "\n",
    "if 10 in lst:\n",
    "    print(\"10 is present in the list\")\n",
    "else:\n",
    "    print(\"10 is not present in the list\")\n",
    "    "
   ]
  },
  {
   "cell_type": "markdown",
   "id": "7f837ce0",
   "metadata": {},
   "source": [
    "# THANK YOU!"
   ]
  }
 ],
 "metadata": {
  "kernelspec": {
   "display_name": "Python 3 (ipykernel)",
   "language": "python",
   "name": "python3"
  },
  "language_info": {
   "codemirror_mode": {
    "name": "ipython",
    "version": 3
   },
   "file_extension": ".py",
   "mimetype": "text/x-python",
   "name": "python",
   "nbconvert_exporter": "python",
   "pygments_lexer": "ipython3",
   "version": "3.9.12"
  }
 },
 "nbformat": 4,
 "nbformat_minor": 5
}
