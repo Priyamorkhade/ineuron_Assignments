{
 "cells": [
  {
   "cell_type": "markdown",
   "id": "2b9e6dfb",
   "metadata": {},
   "source": [
    "# Q.1. What are keywords in python? Using the keyword library, print all the python keywords.\n",
    "\n"
   ]
  },
  {
   "cell_type": "markdown",
   "id": "04ad8a6e",
   "metadata": {},
   "source": [
    "* Keywords in Python are reserved words that cannot be used as ordinary identifiers. \n",
    "* Used to define the syntax and structure of the python language.\n",
    "* Keywords are case-sensitive."
   ]
  },
  {
   "cell_type": "code",
   "execution_count": 1,
   "id": "4936019d",
   "metadata": {},
   "outputs": [
    {
     "name": "stdout",
     "output_type": "stream",
     "text": [
      "['False', 'None', 'True', '__peg_parser__', 'and', 'as', 'assert', 'async', 'await', 'break', 'class', 'continue', 'def', 'del', 'elif', 'else', 'except', 'finally', 'for', 'from', 'global', 'if', 'import', 'in', 'is', 'lambda', 'nonlocal', 'not', 'or', 'pass', 'raise', 'return', 'try', 'while', 'with', 'yield']\n"
     ]
    }
   ],
   "source": [
    "import keyword  #Keyword is a library\n",
    "\n",
    "\n",
    "print(keyword.kwlist) #display all keywords"
   ]
  },
  {
   "cell_type": "markdown",
   "id": "4150c1c9",
   "metadata": {},
   "source": [
    "# Q.2. What are the rules to create variables in python?"
   ]
  },
  {
   "cell_type": "markdown",
   "id": "af7f6f80",
   "metadata": {},
   "source": [
    "Variable is a named location used to store data in memory.\n",
    "\n",
    "* Rules to create Variable :\n",
    "    - A Python variable name must start with a letter or the underscore character.\n",
    "    - A Python variable name cannot start with a number.\n",
    "    - A Python variable name can only contain alpha-numeric characters and underscores (A-z, 0-9, and _ ).\n",
    "    - Variable in Python names are case-sensitive (name, Name, and NAME are three different variables).\n",
    "    - The reserved words(keywords) in Python cannot be used to name the variable in Python.\n"
   ]
  },
  {
   "cell_type": "code",
   "execution_count": 2,
   "id": "06bfc3d7",
   "metadata": {},
   "outputs": [],
   "source": [
    "#Example of variable creation\n",
    "\n",
    "# valid variable name\n",
    "marks = 10         # all small characters\n",
    "Marks = 20         # first letter capital\n",
    "Ma_r_ks = 50\n",
    "_marks = 60        # name start with underscore\n",
    "marks_ = 70        # variable name end with underscore  \n",
    "_MARKS_ = 80       # underscore at starting and ending"
   ]
  },
  {
   "cell_type": "markdown",
   "id": "68ce82b6",
   "metadata": {},
   "source": [
    "# Q.3. What are the standards and conventions followed for the nomenclature of variables in python to improve code readability and maintainability?"
   ]
  },
  {
   "cell_type": "markdown",
   "id": "92bcc019",
   "metadata": {},
   "source": [
    "* Snake Case for Variable Names: variables name should be in lowercase,and words within a variable name seperated by underscore. eg- first_name\n",
    "\n",
    "* Descriptive and Clear Names: Variable names should be descriptive and clear, helping other developers understand the purpose of the variable.\n",
    "\n",
    "* Avoid Single-Letter Variables: While single-letter variable names like i, j, and k are common in loops, it's better to avoid them outside of loop counters. Use more meaningful names for other variables.\n",
    "\n",
    "* Use English Words: Python variable names should be in English. Avoid using non-ASCII characters or other languages for variable names.\n",
    "\n",
    "* Avoid Reserved Words: Don't use Python reserved words (keywords) as variable names. For example, don't use for, if, else, etc., as variable names.\n",
    "\n",
    "* Constants in UPPERCASE: If you have constants, they are typically named using uppercase letters with underscores, e.g., PI, MAX_VALUE.\n",
    "\n",
    "* Module-Level Variables: For module-level variables (variables defined at the top level of a module), use all uppercase names with underscores, such as CONFIG_SETTING.\n",
    "\n",
    "* Class Names: Use the CapWords convention (also known as CamelCase) for class names, e.g., MyClass, PersonInfo.\n",
    "\n",
    "* Private Variables: To indicate that a variable is intended for internal use and not part of the public interface, prefix it with a single underscore (e.g., _internal_data). For truly private variables, use double underscores (e.g., __private_data).\n",
    "\n",
    "* Avoid Leading and Trailing Underscores: Avoid using leading and trailing underscores in variable names unless there is a specific reason to do so.\n",
    "\n",
    "* Consistency: Maintain consistency in naming throughout your codebase. If you use a particular naming style, stick with it.\n",
    "\n",
    "* Function Arguments: Function arguments should follow the same naming conventions as variables."
   ]
  },
  {
   "cell_type": "markdown",
   "id": "e4ada15f",
   "metadata": {},
   "source": [
    "# Q.4. What will happen if a keyword is used as a variable name?"
   ]
  },
  {
   "cell_type": "markdown",
   "id": "71f44e2f",
   "metadata": {},
   "source": [
    "keywords are special words that have a meaning. if we used keywords as variable name. we will get a syntax error."
   ]
  },
  {
   "cell_type": "code",
   "execution_count": 3,
   "id": "5c002b22",
   "metadata": {},
   "outputs": [
    {
     "ename": "SyntaxError",
     "evalue": "cannot assign to True (4104638518.py, line 1)",
     "output_type": "error",
     "traceback": [
      "\u001b[1;36m  Input \u001b[1;32mIn [3]\u001b[1;36m\u001b[0m\n\u001b[1;33m    True =\"hi\"  # True is a keyword and keyword can not used for variable name.\u001b[0m\n\u001b[1;37m    ^\u001b[0m\n\u001b[1;31mSyntaxError\u001b[0m\u001b[1;31m:\u001b[0m cannot assign to True\n"
     ]
    }
   ],
   "source": [
    "True =\"hi\"  # True is a keyword and keyword can not used for variable name."
   ]
  },
  {
   "cell_type": "markdown",
   "id": "b1f20998",
   "metadata": {},
   "source": [
    "# Q.5. For what purpose def keyword is used?"
   ]
  },
  {
   "cell_type": "markdown",
   "id": "8ea5328e",
   "metadata": {},
   "source": [
    "def keyword is used for creating function. \n",
    "\n",
    "def keyword is placed before a function name that is provided by the user to create a user-defined function."
   ]
  },
  {
   "cell_type": "code",
   "execution_count": 4,
   "id": "17fc057d",
   "metadata": {},
   "outputs": [
    {
     "data": {
      "text/plain": [
       "10"
      ]
     },
     "execution_count": 4,
     "metadata": {},
     "output_type": "execute_result"
    }
   ],
   "source": [
    "def add_numbers(a, b):  #here add_numbers(a,b) is a function name with parameter a,b and it is created using def keyword.\n",
    "    result = a + b\n",
    "    return result\n",
    "\n",
    "add_numbers(2,8)        #calling function"
   ]
  },
  {
   "cell_type": "markdown",
   "id": "dd125a12",
   "metadata": {},
   "source": [
    "# Q.6. What is the operation of this special character ‘\\’?"
   ]
  },
  {
   "cell_type": "markdown",
   "id": "9f712c6e",
   "metadata": {},
   "source": [
    "The backslash('\\') character it is used in representing certain whitespace characters:\n",
    "\"\\t\" is a tab, \"\\n\" is a newline, and \"\\r\" is a carriage return."
   ]
  },
  {
   "cell_type": "code",
   "execution_count": 5,
   "id": "ed751b00",
   "metadata": {},
   "outputs": [
    {
     "name": "stdout",
     "output_type": "stream",
     "text": [
      "Hello \t world\n",
      "Hello \n",
      " world\n",
      "Hello \r",
      " world\n",
      "Hello \"world\"\n"
     ]
    }
   ],
   "source": [
    "print(\"Hello \\t world\")  #\\t -tab(4 space)\n",
    "\n",
    "print(\"Hello \\n world\")  #\\n -new line\n",
    "\n",
    "print(\"Hello \\r world\") \n",
    "\n",
    "print(\"Hello \\\"world\\\"\") \n"
   ]
  },
  {
   "cell_type": "markdown",
   "id": "5d3baeb6",
   "metadata": {},
   "source": [
    "# Q.7. Give an example of the following conditions:\n",
    "    (i) Homogeneous list\n",
    "    (ii) Heterogeneous set\n",
    "    (iii) Homogeneous tuple"
   ]
  },
  {
   "cell_type": "code",
   "execution_count": 6,
   "id": "a5ee6594",
   "metadata": {},
   "outputs": [
    {
     "data": {
      "text/plain": [
       "['Apple', 'Strawberry', 'Banana', 'Orange', 'Pineapple']"
      ]
     },
     "execution_count": 6,
     "metadata": {},
     "output_type": "execute_result"
    }
   ],
   "source": [
    "#(i) Homogeneous list\n",
    "lst1=[\"Apple\",\"Strawberry\",\"Banana\",\"Orange\",\"Pineapple\"]\n",
    "\n",
    "lst1"
   ]
  },
  {
   "cell_type": "code",
   "execution_count": 7,
   "id": "0860b103",
   "metadata": {},
   "outputs": [
    {
     "data": {
      "text/plain": [
       "{(5, 6, 7), 1, 3.14, 'banana'}"
      ]
     },
     "execution_count": 7,
     "metadata": {},
     "output_type": "execute_result"
    }
   ],
   "source": [
    "#(ii) Heterogeneous set\n",
    "collection= [1, 'banana', 3.14, (5, 6, 7)]\n",
    "heterogeneous_set = set(collection)\n",
    "\n",
    "heterogeneous_set"
   ]
  },
  {
   "cell_type": "code",
   "execution_count": 8,
   "id": "da7be087",
   "metadata": {},
   "outputs": [
    {
     "data": {
      "text/plain": [
       "(2, 4, 6, 8, 10)"
      ]
     },
     "execution_count": 8,
     "metadata": {},
     "output_type": "execute_result"
    }
   ],
   "source": [
    "#(iii) Homogeneous tuple\n",
    "tuple1=(2,4,6,8,10)\n",
    "\n",
    "tuple1"
   ]
  },
  {
   "cell_type": "markdown",
   "id": "522bfaf5",
   "metadata": {},
   "source": [
    "# Q.8. Explain the mutable and immutable data types with proper explanation & examples."
   ]
  },
  {
   "cell_type": "markdown",
   "id": "b965b38f",
   "metadata": {},
   "source": [
    "* Mutable Data Types:\n",
    "  - Mutable means anything can be modified or changed.\n",
    "  - Mutable object can be changed after it is created.\n",
    "  - we can add items, remove items and extend.\n",
    "       - List: list is a ordered sequence of elements.\n",
    "               declare list using square[] brackets.\n",
    "     \n",
    "       - Dictioary: Dictionary has a key/Value pair.\n",
    "                   it is an unordered collection of item.\n",
    "                   using pop() we can remove key value pair.\n",
    "                   using clear() we can clear the whole dictionary.\n",
    "       - Sets: set elements are unique in nature.\n",
    "               it is an unordered collection of items.\n",
    "               seet itself is a mutable in python but immutable in nature.\n",
    "* Immutable Data Types:\n",
    "   - The value of these Python objects is fixed once they are made.\n",
    "   - an immutable Python object cannot be altered or changed.\n",
    "   \n",
    "       - Numbers(Integer, Float, Complex, Decimal & Booleans) \n",
    "               - int-a=10\n",
    "               - float- represeent decimal points. num=3.5.\n",
    "               - complex- complex numbers are represented as realpart+imaginarypart eg: num=1+2j \n",
    "       - Tuples:Tuples are used to store multiple items in a single variable.\n",
    "               - we can't append or update anything in Tuple.\n",
    "               -enclosed in () round brackets.\n",
    "               eg: tup1=(2,3,6,7,8)\n",
    "               \n",
    "       - Strings: Because strings are immutable, we cannot append or update anything in them. While modifying any part of the string, we encountered problems indicating that strings are not mutable in nature.\n",
    "          eg. strng1=\"Welcome to my home\""
   ]
  },
  {
   "cell_type": "code",
   "execution_count": 9,
   "id": "e569cd22",
   "metadata": {},
   "outputs": [
    {
     "name": "stdout",
     "output_type": "stream",
     "text": [
      "origional list ['red', 'blue', 'green']\n",
      "appended list ['red', 'blue', 'green', 'Yellow']\n",
      "After removing green from list ['red', 'blue', 'Yellow']\n",
      "------------------------------------------------------------\n",
      "origional dict {'name': 'Priya', 'City': 'Akola'}\n",
      "dictionary after adding new key and value {'name': 'Priya', 'City': 'Akola', 'Country': 'India'}\n",
      "------------------------------------------------------------\n",
      "origional set {1, 2, 3, 4, 5, 6}\n",
      "after adding value {1, 2, 3, 4, 5, 6, 8}\n",
      "after removing 2 value {1, 3, 4, 5, 6, 8}\n"
     ]
    }
   ],
   "source": [
    "#Example of mutable data types\n",
    "# List\n",
    "\n",
    "lst1=[\"red\",\"blue\",\"green\"]\n",
    "print(\"origional list\",lst1)\n",
    "#add new value \"Yellow\" to my_list\n",
    "lst1.append(\"Yellow\")\n",
    "print(\"appended list\",lst1)\n",
    "#\n",
    "lst1.remove(\"green\")\n",
    "print(\"After removing green from list\",lst1)\n",
    "print(\"-\"*60)\n",
    "\n",
    "\n",
    "#dictionary\n",
    "\n",
    "mydict={\"name\":\"Priya\",\"City\":\"Akola\"}\n",
    "print(\"origional dict\", mydict)\n",
    "mydict[\"Country\"]=\"India\"\n",
    "print(\"dictionary after adding new key and value\", mydict)\n",
    "print(\"-\"*60)\n",
    "\n",
    "#SET\n",
    "\n",
    "myset={1,2,3,4,5,6}\n",
    "print(\"origional set\",myset)\n",
    "#adding new value\n",
    "myset.add(8)\n",
    "print(\"after adding value\",myset)\n",
    "#removing value\n",
    "myset.remove(2)\n",
    "print(\"after removing 2 value\",myset)"
   ]
  },
  {
   "cell_type": "code",
   "execution_count": 22,
   "id": "b079d61a",
   "metadata": {},
   "outputs": [
    {
     "ename": "TypeError",
     "evalue": "'tuple' object does not support item assignment",
     "output_type": "error",
     "traceback": [
      "\u001b[1;31m---------------------------------------------------------------------------\u001b[0m",
      "\u001b[1;31mTypeError\u001b[0m                                 Traceback (most recent call last)",
      "Input \u001b[1;32mIn [22]\u001b[0m, in \u001b[0;36m<cell line: 7>\u001b[1;34m()\u001b[0m\n\u001b[0;32m      1\u001b[0m \u001b[38;5;66;03m#Immutable Examples\u001b[39;00m\n\u001b[0;32m      2\u001b[0m \n\u001b[0;32m      3\u001b[0m \u001b[38;5;66;03m#Tuple\u001b[39;00m\n\u001b[0;32m      5\u001b[0m tup1\u001b[38;5;241m=\u001b[39m(\u001b[38;5;124m\"\u001b[39m\u001b[38;5;124mHello\u001b[39m\u001b[38;5;124m\"\u001b[39m,\u001b[38;5;124m\"\u001b[39m\u001b[38;5;124mHi\u001b[39m\u001b[38;5;124m\"\u001b[39m,\u001b[38;5;124m\"\u001b[39m\u001b[38;5;124mBye\u001b[39m\u001b[38;5;124m\"\u001b[39m)\n\u001b[1;32m----> 7\u001b[0m tup1[\u001b[38;5;241m2\u001b[39m]\u001b[38;5;241m=\u001b[39m\u001b[38;5;124m\"\u001b[39m\u001b[38;5;124mhiii\u001b[39m\u001b[38;5;124m\"\u001b[39m\n",
      "\u001b[1;31mTypeError\u001b[0m: 'tuple' object does not support item assignment"
     ]
    }
   ],
   "source": [
    "#Immutable Examples\n",
    "\n",
    "#Tuple\n",
    "\n",
    "tup1=(\"Hello\",\"Hi\",\"Bye\")\n",
    "\n",
    "tup1[2]=\"hiii\""
   ]
  },
  {
   "cell_type": "markdown",
   "id": "48605d6e",
   "metadata": {},
   "source": [
    "# Q.9. Write a code to create the given structure using only for loop.\n",
    "\n",
    "        *\n",
    "       ***\n",
    "      *****\n",
    "     *******\n",
    "    *********"
   ]
  },
  {
   "cell_type": "code",
   "execution_count": 10,
   "id": "bd7251ff",
   "metadata": {},
   "outputs": [
    {
     "name": "stdout",
     "output_type": "stream",
     "text": [
      "    *\n",
      "   ***\n",
      "  *****\n",
      " *******\n",
      "*********\n"
     ]
    }
   ],
   "source": [
    "n = 5 \n",
    "\n",
    "for i in range(1, n + 1):\n",
    "    for j in range(n - i):\n",
    "         print(\" \", end=\"\")\n",
    "    for k in range(2 * i - 1):\n",
    "        print(\"*\", end=\"\")\n",
    "    print()\n",
    "        \n",
    "   "
   ]
  },
  {
   "cell_type": "markdown",
   "id": "27c106a0",
   "metadata": {},
   "source": [
    "# Q.10. Write a code to create the given structure using while loop.\n",
    "\n",
    "    |||||||||\n",
    "     |||||||\n",
    "      |||||\n",
    "       |||\n",
    "        |\n"
   ]
  },
  {
   "cell_type": "code",
   "execution_count": 11,
   "id": "98bed921",
   "metadata": {},
   "outputs": [
    {
     "name": "stdout",
     "output_type": "stream",
     "text": [
      "|||||||||\n",
      " |||||||\n",
      "  |||||\n",
      "   |||\n",
      "    |\n"
     ]
    }
   ],
   "source": [
    "n = 5 \n",
    "row = 1 \n",
    "while row <= n:\n",
    "    spaces = 1\n",
    "    while spaces < row:\n",
    "        print(\" \", end=\"\")\n",
    "        spaces += 1\n",
    "        \n",
    "    bars = 2 * (n - row) + 1\n",
    "    while bars > 0:\n",
    "        print(\"|\", end=\"\")\n",
    "        bars -= 1\n",
    "    print()\n",
    "    row += 1"
   ]
  }
 ],
 "metadata": {
  "kernelspec": {
   "display_name": "Python 3 (ipykernel)",
   "language": "python",
   "name": "python3"
  },
  "language_info": {
   "codemirror_mode": {
    "name": "ipython",
    "version": 3
   },
   "file_extension": ".py",
   "mimetype": "text/x-python",
   "name": "python",
   "nbconvert_exporter": "python",
   "pygments_lexer": "ipython3",
   "version": "3.9.12"
  }
 },
 "nbformat": 4,
 "nbformat_minor": 5
}
