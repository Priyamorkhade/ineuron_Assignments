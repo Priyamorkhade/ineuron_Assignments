{
 "cells": [
  {
   "cell_type": "markdown",
   "id": "8b21b885",
   "metadata": {},
   "source": [
    "# 1. What is the role of try and exception block?"
   ]
  },
  {
   "cell_type": "markdown",
   "id": "b410922e",
   "metadata": {},
   "source": [
    "* The try block lets you test a block of code for errors. \n",
    "* The except block lets you handle the error."
   ]
  },
  {
   "cell_type": "markdown",
   "id": "9fda00b1",
   "metadata": {},
   "source": [
    "# 2. What is the syntax for a basic try-except block?"
   ]
  },
  {
   "cell_type": "markdown",
   "id": "44290a68",
   "metadata": {},
   "source": [
    "try:\n",
    "    # code that may raise an exception\n",
    "except:\n",
    "    # code to handle the exception"
   ]
  },
  {
   "cell_type": "markdown",
   "id": "904686a5",
   "metadata": {},
   "source": [
    "# 3. What happens if an exception occurs inside a try block and there is no matching except block?"
   ]
  },
  {
   "cell_type": "markdown",
   "id": "3d0e2f9e",
   "metadata": {},
   "source": [
    "* If an exception occurs inside a try block and there is no matching except block to handle that specific type of exception, the exception will propagate up the call stack. If the exception is not caught anywhere in the program, the default Python behavior is to terminate the program and display an error message.\n"
   ]
  },
  {
   "cell_type": "code",
   "execution_count": 5,
   "id": "ee107a1b",
   "metadata": {},
   "outputs": [
    {
     "ename": "ZeroDivisionError",
     "evalue": "division by zero",
     "output_type": "error",
     "traceback": [
      "\u001b[1;31m---------------------------------------------------------------------------\u001b[0m",
      "\u001b[1;31mZeroDivisionError\u001b[0m                         Traceback (most recent call last)",
      "Input \u001b[1;32mIn [5]\u001b[0m, in \u001b[0;36m<cell line: 1>\u001b[1;34m()\u001b[0m\n\u001b[0;32m      1\u001b[0m \u001b[38;5;28;01mtry\u001b[39;00m:\n\u001b[0;32m      2\u001b[0m     \u001b[38;5;66;03m# code that may raise an exception\u001b[39;00m\n\u001b[1;32m----> 3\u001b[0m     x \u001b[38;5;241m=\u001b[39m \u001b[38;5;241;43m1\u001b[39;49m\u001b[43m \u001b[49m\u001b[38;5;241;43m/\u001b[39;49m\u001b[43m \u001b[49m\u001b[38;5;241;43m0\u001b[39;49m  \u001b[38;5;66;03m# This will raise a ZeroDivisionError\u001b[39;00m\n\u001b[0;32m      4\u001b[0m \u001b[38;5;28;01mexcept\u001b[39;00m \u001b[38;5;167;01mValueError\u001b[39;00m \u001b[38;5;28;01mas\u001b[39;00m ve:\n\u001b[0;32m      5\u001b[0m     \u001b[38;5;66;03m# This block will not execute for a ZeroDivisionError\u001b[39;00m\n\u001b[0;32m      6\u001b[0m     \u001b[38;5;28mprint\u001b[39m(\u001b[38;5;124mf\u001b[39m\u001b[38;5;124m\"\u001b[39m\u001b[38;5;124mCaught a ValueError: \u001b[39m\u001b[38;5;132;01m{\u001b[39;00mve\u001b[38;5;132;01m}\u001b[39;00m\u001b[38;5;124m\"\u001b[39m)\n",
      "\u001b[1;31mZeroDivisionError\u001b[0m: division by zero"
     ]
    }
   ],
   "source": [
    "try:\n",
    "    x = 1 / 0  # This will raise a ZeroDivisionError\n",
    "except ValueError as ve:\n",
    "    # This block will not execute for a ZeroDivisionError\n",
    "    print(f\"Caught a ValueError: {ve}\")\n"
   ]
  },
  {
   "cell_type": "markdown",
   "id": "61196736",
   "metadata": {},
   "source": [
    "# 4. What is the difference between using a bare except block and specifying a specific exception type?\n"
   ]
  },
  {
   "cell_type": "markdown",
   "id": "454ba83e",
   "metadata": {},
   "source": [
    "* bare except block\n",
    "     - Catches all exceptions that are derived from the BaseException class, including system-exiting exceptions like SystemExit and KeyboardInterrupt.\n",
    "    - Useful for catching unexpected errors and providing a generic error message. However, it can catch and handle exceptions that you might not have anticipated, leading to unintended consequences.\n",
    "\n",
    "\n",
    "* Specific exception type:\n",
    "    - Catches only the specified exception type or its subclasses. Provides a more targeted approach to error handling.\n",
    "    - Preferred for handling known and expected exceptions. It allows you to handle different exceptions in specific ways,  providing more control over the program flow.\n",
    "    - Specifying specific exception types allows for more precise error handling. You can tailor your response to different types of errors, improving the overall robustness of your code.\n",
    "    - Code is more readable and self-explanatory when you explicitly state the exceptions you are handling. This makes it easier for others (and yourself) to understand the intended behavior.\n",
    "     - When an exception occurs, having specific information about the type of exception can aid in debugging. It helps identify the root cause of the issue more quickly."
   ]
  },
  {
   "cell_type": "markdown",
   "id": "0842a0a2",
   "metadata": {},
   "source": [
    "* Example of bare except block:\n",
    "\n",
    "try:\n",
    "    # code that may raise an exception\n",
    "except:\n",
    "    # code to handle any exception (not recommended)\n",
    "\n",
    "* Example of specific exception type:\n",
    "\n",
    "try:\n",
    "    # code that may raise a specific exception\n",
    "except SpecificExceptionType as e:\n",
    "    # code to handle the specific exception"
   ]
  },
  {
   "cell_type": "markdown",
   "id": "2d7d4448",
   "metadata": {},
   "source": [
    "# 5. Can you have nested try-except blocks in Python? If yes, then give an example."
   ]
  },
  {
   "cell_type": "markdown",
   "id": "6cd6b4da",
   "metadata": {},
   "source": [
    "* Yes, you can have nested try-except blocks in Python. This allows you to handle exceptions at different levels of your code.\n"
   ]
  },
  {
   "cell_type": "code",
   "execution_count": 4,
   "id": "7e288e7d",
   "metadata": {},
   "outputs": [
    {
     "name": "stdout",
     "output_type": "stream",
     "text": [
      "Enter the numerator: 8\n",
      "Enter the denominator: 4\n",
      "The result of 8.0 divided by 4.0 is: 2.0\n"
     ]
    }
   ],
   "source": [
    "def divide_numbers():\n",
    "    try:\n",
    "        # Outer try block\n",
    "        numerator = float(input(\"Enter the numerator: \"))\n",
    "        denominator = float(input(\"Enter the denominator: \"))\n",
    "\n",
    "        try:\n",
    "            # Inner try block\n",
    "            result = numerator / denominator\n",
    "            print(f\"The result of {numerator} divided by {denominator} is: {result}\")\n",
    "\n",
    "        except ZeroDivisionError as zde:\n",
    "            print(f\"Inner Error: {zde}. Cannot divide by zero.\")\n",
    "\n",
    "    except ValueError as ve:\n",
    "        print(f\"Outer Error: {ve}. Please enter valid numerical values.\")\n",
    "    except Exception as e:\n",
    "        print(f\"An unexpected error occurred: {e}\")\n",
    "\n",
    "# Call the function \n",
    "divide_numbers()"
   ]
  },
  {
   "cell_type": "markdown",
   "id": "b978a01e",
   "metadata": {},
   "source": [
    " "
   ]
  },
  {
   "cell_type": "markdown",
   "id": "cf9080b2",
   "metadata": {},
   "source": [
    "# 6. Can we use multiple exception blocks, if yes then give an example."
   ]
  },
  {
   "cell_type": "markdown",
   "id": "ed5fa3d5",
   "metadata": {},
   "source": [
    "* Yes, we can use multiple except blocks to handle different types of exceptions. "
   ]
  },
  {
   "cell_type": "code",
   "execution_count": 3,
   "id": "86ae23db",
   "metadata": {},
   "outputs": [
    {
     "name": "stdout",
     "output_type": "stream",
     "text": [
      "Enter the numerator: 4\n",
      "Enter the denominator: 2\n",
      "The result of 4.0 divided by 2.0 is: 2.0\n"
     ]
    }
   ],
   "source": [
    "def divide_numbers():\n",
    "    try:\n",
    "        numerator = float(input(\"Enter the numerator: \"))\n",
    "        denominator = float(input(\"Enter the denominator: \"))\n",
    "        result = numerator / denominator\n",
    "\n",
    "        print(f\"The result of {numerator} divided by {denominator} is: {result}\")\n",
    "\n",
    "    except ValueError as ve:\n",
    "        print(f\"Error: {ve}. Please enter valid numerical values.\")\n",
    "    except ZeroDivisionError as zde:\n",
    "        print(f\"Error: {zde}. Cannot divide by zero.\")\n",
    "    except Exception as e:\n",
    "        print(f\"An unexpected error occurred: {e}\")\n",
    "\n",
    "# Call the function\n",
    "divide_numbers()"
   ]
  },
  {
   "cell_type": "markdown",
   "id": "a5f28001",
   "metadata": {},
   "source": [
    "# 7. Write the reason due to which following errors are raised:\n",
    "    a. EOFError\n",
    "    b. FloatingPointError\n",
    "    c. IndexError\n",
    "    d. MemoryError\n",
    "    e. OverflowError\n",
    "    f. TabError\n",
    "    g. ValueError"
   ]
  },
  {
   "cell_type": "markdown",
   "id": "699e4a4e",
   "metadata": {},
   "source": [
    "* a. EOFError:\n",
    "     - This error is raised when the built-in input() function hits an end-of-file condition without receiving any data.\n",
    "* b. FloatingPointError:\n",
    "     - This error occurs when a floating-point operation (e.g., division by zero) results in an undefined or infinite value. For example, dividing a number by zero or performing certain mathematical operations that lead to an overflow for floating-point numbers can trigger this error.\n",
    "\n",
    "* c. IndexError:\n",
    "     - This error is raised when trying to access an index in a sequence (like a list or tuple) that is outside the valid range of indices. For instance, attempting to access an element at an index that doesn't exist in the sequence.\n",
    "\n",
    "* d. MemoryError:\n",
    "    - This error is raised when an operation requires more memory than is available. For example, attempting to create a very large list or allocating memory beyond the system's limits can result in a MemoryError.\n",
    "\n",
    "* e. OverflowError:\n",
    "     - This error occurs when a numeric operation exceeds the limits of the data type, resulting in an overflow. For instance, performing an arithmetic operation that produces a result too large to be represented within the given numeric type.\n",
    "\n",
    "* f. TabError:\n",
    "    - This error is raised when inconsistent use of tabs and spaces is detected in indentation. Python expects consistent indentation to define the structure of the code, and mixing tabs and spaces can lead to a TabError.\n",
    "\n",
    "* g. ValueError:\n",
    "    - This error is raised when a function receives an argument of the correct type but with an invalid value. For example, trying to convert a string to an integer using int() when the string does not represent a valid integer."
   ]
  },
  {
   "cell_type": "markdown",
   "id": "bfe36b61",
   "metadata": {},
   "source": [
    "# 8. Write code for the following given scenario and add try-exception block to it.\n",
    "    a. Program to divide two numbers\n",
    "    b. Program to convert a string to an integer\n",
    "    c. Program to access an element in a list\n",
    "    d. Program to handle a specific exception\n",
    "    e. Program to handle any exception"
   ]
  },
  {
   "cell_type": "markdown",
   "id": "aa4245ca",
   "metadata": {},
   "source": [
    "**a. Program to divide two numbers**"
   ]
  },
  {
   "cell_type": "code",
   "execution_count": 4,
   "id": "046282c9",
   "metadata": {},
   "outputs": [
    {
     "name": "stdout",
     "output_type": "stream",
     "text": [
      "division is : 2\n"
     ]
    }
   ],
   "source": [
    "def div(p, q):\n",
    "    try:\n",
    "        result = p // q\n",
    "        print(\"division is :\", result)\n",
    "    except ZeroDivisionError:\n",
    "        print(\"Sorry ! You are dividing by zero \")\n",
    " \n",
    "\n",
    "div(7,3)"
   ]
  },
  {
   "cell_type": "markdown",
   "id": "6e063ff3",
   "metadata": {},
   "source": [
    "**b. Program to convert a string to an integer**"
   ]
  },
  {
   "cell_type": "code",
   "execution_count": 28,
   "id": "1e38875f",
   "metadata": {},
   "outputs": [
    {
     "name": "stdout",
     "output_type": "stream",
     "text": [
      "Enter a number: 6\n",
      "<class 'str'>\n",
      "Converted integer: 6\n",
      "<class 'int'>\n"
     ]
    }
   ],
   "source": [
    "try:\n",
    "    i = input(\"Enter a number: \")\n",
    "    print(type(i))\n",
    "    # Convert the string to an integer\n",
    "    result = int(i)\n",
    "    print(\"Converted integer:\", result)\n",
    "    print(type(result))\n",
    "except ValueError:\n",
    "    print(\"Invalid input. Please enter a valid integer.\")"
   ]
  },
  {
   "cell_type": "markdown",
   "id": "bb250daa",
   "metadata": {},
   "source": [
    "**c. Program to access an element in a list**\n"
   ]
  },
  {
   "cell_type": "code",
   "execution_count": 29,
   "id": "15818da2",
   "metadata": {},
   "outputs": [
    {
     "name": "stdout",
     "output_type": "stream",
     "text": [
      "Enter the index to access: 3\n",
      "Element at index 3 is: 40\n"
     ]
    }
   ],
   "source": [
    "my_list = [10, 20, 30, 40, 50]\n",
    "\n",
    "try:\n",
    "    index = int(input(\"Enter the index to access: \"))\n",
    "    element = my_list[index]\n",
    "    print(\"Element at index\", index, \"is:\", element)\n",
    "\n",
    "except IndexError:\n",
    "    # Handle the case where the index is out of range\n",
    "    print(\"Index out of range. Please enter a valid index.\")\n",
    "\n",
    "except ValueError:\n",
    "    # Handle the case where the user didn't enter a valid integer for the index\n",
    "    print(\"Invalid input. Please enter a valid integer for the index.\")\n"
   ]
  },
  {
   "cell_type": "markdown",
   "id": "1c478b40",
   "metadata": {},
   "source": [
    "**d. Program to handle a specific exception**\n"
   ]
  },
  {
   "cell_type": "code",
   "execution_count": 23,
   "id": "4fb2698e",
   "metadata": {},
   "outputs": [
    {
     "name": "stdout",
     "output_type": "stream",
     "text": [
      "Enter a numerator: 2\n",
      "Enter a denominator: 4\n",
      "Result: 0.5\n",
      "This block always runs.\n"
     ]
    }
   ],
   "source": [
    "try:\n",
    "    num1 = int(input(\"Enter a numerator: \"))\n",
    "    num2 = int(input(\"Enter a denominator: \"))\n",
    "    \n",
    "    result = num1 / num2\n",
    "\n",
    "except ValueError:\n",
    "    print(\"Please enter valid integers.\")\n",
    "\n",
    "except ZeroDivisionError:\n",
    "    print(\"Cannot divide by zero.\")\n",
    "\n",
    "else:\n",
    "    print(\"Result:\", result)\n",
    "\n",
    "finally:\n",
    "    print(\"This block always runs.\")"
   ]
  },
  {
   "cell_type": "markdown",
   "id": "385b600d",
   "metadata": {},
   "source": [
    "**e. Program to handle any exception**"
   ]
  },
  {
   "cell_type": "code",
   "execution_count": 24,
   "id": "fea3c316",
   "metadata": {},
   "outputs": [
    {
     "name": "stdout",
     "output_type": "stream",
     "text": [
      "Enter a numerator: 4\n",
      "Enter a denominator: 2\n",
      "Result: 2.0\n",
      "This block always runs.\n"
     ]
    }
   ],
   "source": [
    "try:\n",
    "    num1 = int(input(\"Enter a numerator: \"))\n",
    "    num2 = int(input(\"Enter a denominator: \"))\n",
    "    \n",
    "    result = num1 / num2\n",
    "\n",
    "except Exception as e:\n",
    "    # Handle any exception\n",
    "    print(\"An error occurred:\", e)\n",
    "\n",
    "else:\n",
    "    print(\"Result:\", result)\n",
    "\n",
    "finally:\n",
    "    print(\"This block always runs.\")\n"
   ]
  }
 ],
 "metadata": {
  "kernelspec": {
   "display_name": "Python 3 (ipykernel)",
   "language": "python",
   "name": "python3"
  },
  "language_info": {
   "codemirror_mode": {
    "name": "ipython",
    "version": 3
   },
   "file_extension": ".py",
   "mimetype": "text/x-python",
   "name": "python",
   "nbconvert_exporter": "python",
   "pygments_lexer": "ipython3",
   "version": "3.9.12"
  }
 },
 "nbformat": 4,
 "nbformat_minor": 5
}
