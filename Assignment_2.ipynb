{
 "cells": [
  {
   "cell_type": "markdown",
   "id": "42db0862",
   "metadata": {},
   "source": [
    "# 1.What are the two values of the Boolean data type? How do you write them?\n"
   ]
  },
  {
   "cell_type": "markdown",
   "id": "c2dbf4a4",
   "metadata": {},
   "source": [
    "* Two values of the Boolean data type is True and False.\n",
    "    - Example:"
   ]
  },
  {
   "cell_type": "code",
   "execution_count": 4,
   "id": "bdab7a65",
   "metadata": {},
   "outputs": [
    {
     "data": {
      "text/plain": [
       "bool"
      ]
     },
     "execution_count": 4,
     "metadata": {},
     "output_type": "execute_result"
    }
   ],
   "source": [
    "a=True\n",
    "b=False\n",
    "type(a)\n",
    "type(b)\n"
   ]
  },
  {
   "cell_type": "markdown",
   "id": "fb474a32",
   "metadata": {},
   "source": [
    "# 2. What are the three different types of Boolean operators?\n"
   ]
  },
  {
   "cell_type": "markdown",
   "id": "7398ba74",
   "metadata": {},
   "source": [
    "* The three different types of Boolean operators are : and(&),or(|) and not(!).\n",
    "\n",
    "\n",
    "   - and : True if both condition are true.\t\n",
    "   - or  : True if at least one is true.\n",
    "   - not : True only if false."
   ]
  },
  {
   "cell_type": "code",
   "execution_count": 9,
   "id": "0017099a",
   "metadata": {},
   "outputs": [
    {
     "name": "stdout",
     "output_type": "stream",
     "text": [
      "True\n",
      "True\n",
      "False\n"
     ]
    }
   ],
   "source": [
    "\n",
    "print((8 > 3) and (1 < 3))  # Both original expressions are True\n",
    "\n",
    "print((4 == 4) or (3 != 3)) # One original expression is True\n",
    "\n",
    "print(not(6 >= 3))          # True only if false."
   ]
  },
  {
   "cell_type": "markdown",
   "id": "9dafb06b",
   "metadata": {},
   "source": [
    "# 3. Make a list of each Boolean operator's truth tables (i.e. every possible combination of Boolean values for the operator and what it evaluate ).\n"
   ]
  },
  {
   "cell_type": "markdown",
   "id": "0171cf59",
   "metadata": {},
   "source": [
    "**== Truth Table**\n",
    "-----------------------------\n",
    "* a\t==\tb\tReturns\n",
    "\n",
    "    - True\t==\tTrue  \t **True**\n",
    "\n",
    "    - True\t==\tFalse\t  **False**\n",
    "\n",
    "    - False\t==\tTrue\t  **False**\n",
    "\n",
    "    - False\t==\tFalse\t **True**\n",
    "\n",
    "\n",
    "**AND Truth Table**\n",
    "------------------------------\n",
    "* a\tand\tb\tReturns \n",
    "\n",
    "  - True\tand\tTrue\t**True**\n",
    "\n",
    "  - True\tand\tFalse\t**False**\n",
    "\n",
    "  - False\tand\tTrue\t**False**\n",
    "\n",
    "  - False\tand\tFalse\t**False**\n",
    "\n",
    "\n",
    "**OR Truth Table**\n",
    "-------------------------------\n",
    "* a\tor\tb   Returns\n",
    "\n",
    "    - True  |\tor\tTrue\t**True**\n",
    "    \n",
    "    - True  |\tor\tFalse\t**True**\n",
    "\n",
    "    - False | or\tTrue\t**True**\n",
    "\n",
    "    - False |\tor\tFalse\t**False**\n",
    "\n",
    "\n",
    "**NOT Truth Table**\n",
    "--------------------------------\n",
    "* not\tx\tReturns\n",
    "\n",
    "    - not\tTrue\t**False**\n",
    "\n",
    "    - not\tFalse\t**True**"
   ]
  },
  {
   "cell_type": "markdown",
   "id": "20bca87a",
   "metadata": {},
   "source": [
    "# 4. What are the values of the following expressions?\n",
    " **(5 > 4) and (3 == 5)**\n",
    " \n",
    " \n",
    " **not (5 > 4)**\n",
    " \n",
    " \n",
    " **(5 > 4) or (3 == 5)**\n",
    " \n",
    " \n",
    " **not ((5 > 4) or (3 == 5))**\n",
    " \n",
    " \n",
    " **(True and True) and (True == False)**\n",
    " \n",
    " \n",
    " **(not False) or (not True)**\n"
   ]
  },
  {
   "cell_type": "code",
   "execution_count": 17,
   "id": "c3353a5e",
   "metadata": {},
   "outputs": [
    {
     "data": {
      "text/plain": [
       "False"
      ]
     },
     "execution_count": 17,
     "metadata": {},
     "output_type": "execute_result"
    }
   ],
   "source": [
    "(5 > 4) and (3 == 5) # 5>4 is True but 3 is not equal to 5 means False. **True and False=False** thats why result is False."
   ]
  },
  {
   "cell_type": "code",
   "execution_count": 12,
   "id": "40cc86c9",
   "metadata": {},
   "outputs": [
    {
     "data": {
      "text/plain": [
       "False"
      ]
     },
     "execution_count": 12,
     "metadata": {},
     "output_type": "execute_result"
    }
   ],
   "source": [
    "not (5 > 4) # True only if false."
   ]
  },
  {
   "cell_type": "code",
   "execution_count": 13,
   "id": "6ea02e33",
   "metadata": {},
   "outputs": [
    {
     "data": {
      "text/plain": [
       "True"
      ]
     },
     "execution_count": 13,
     "metadata": {},
     "output_type": "execute_result"
    }
   ],
   "source": [
    "(5 > 4) or (3 == 5) #5>4 is True & 3 is not equal to 5 means False. **True or False=True** thats why result is True."
   ]
  },
  {
   "cell_type": "code",
   "execution_count": 14,
   "id": "a8765f66",
   "metadata": {},
   "outputs": [
    {
     "data": {
      "text/plain": [
       "False"
      ]
     },
     "execution_count": 14,
     "metadata": {},
     "output_type": "execute_result"
    }
   ],
   "source": [
    "not ((5 > 4) or (3 == 5)) #False"
   ]
  },
  {
   "cell_type": "code",
   "execution_count": 15,
   "id": "37e400b8",
   "metadata": {},
   "outputs": [
    {
     "data": {
      "text/plain": [
       "False"
      ]
     },
     "execution_count": 15,
     "metadata": {},
     "output_type": "execute_result"
    }
   ],
   "source": [
    "(True and True) and (True == False) #second condition is False ie. False"
   ]
  },
  {
   "cell_type": "code",
   "execution_count": 16,
   "id": "0fb91c38",
   "metadata": {},
   "outputs": [
    {
     "data": {
      "text/plain": [
       "True"
      ]
     },
     "execution_count": 16,
     "metadata": {},
     "output_type": "execute_result"
    }
   ],
   "source": [
    "(not False) or (not True) # True"
   ]
  },
  {
   "cell_type": "markdown",
   "id": "61c088e1",
   "metadata": {},
   "source": [
    "# 5. What are the six comparison operators?\n"
   ]
  },
  {
   "cell_type": "markdown",
   "id": "6a90900c",
   "metadata": {},
   "source": [
    " * 1) == (Equal to):              eg- 2==2 -> True\n",
    "\n",
    " * 2) != (Not equal to):          eg- 2!=4 -> True\n",
    "\n",
    " * 3) < (Less than):              eg- 2<4 -> True\n",
    "\n",
    " * 4) > (Greater than):           eg- 2>4 -> False\n",
    "\n",
    " * 5) <= (Less than or equal to): eg- 2<=4 -> True\n",
    "\n",
    " * 6) >= (Greater than or equal to): eg- 2>=4 -> False"
   ]
  },
  {
   "cell_type": "markdown",
   "id": "117e6993",
   "metadata": {},
   "source": [
    "# 6. How do you tell the difference between the equal to and assignment operators?Describe a condition and when you would use one.\n"
   ]
  },
  {
   "cell_type": "markdown",
   "id": "0bc3fb21",
   "metadata": {},
   "source": [
    "* In mathematics and algebra, = is an equal to operator. In programming = is an assignment operator, which means that it assigns a value to a variable. "
   ]
  },
  {
   "cell_type": "code",
   "execution_count": 86,
   "id": "40fc8908",
   "metadata": {},
   "outputs": [],
   "source": [
    "x=5 #assign 5 value to x variable\n"
   ]
  },
  {
   "cell_type": "markdown",
   "id": "ec38697e",
   "metadata": {},
   "source": [
    "# 7. Identify the three blocks in this code:\n",
    "spam = 0\n",
    "if spam == 10:\n",
    "print('eggs')\n",
    "if spam > 5:\n",
    "print('bacon')\n",
    "else:\n",
    "print('ham')\n",
    "print('spam')\n",
    "print('spam')\n"
   ]
  },
  {
   "cell_type": "code",
   "execution_count": 90,
   "id": "3cda3e1f",
   "metadata": {},
   "outputs": [
    {
     "name": "stdout",
     "output_type": "stream",
     "text": [
      "ham\n",
      "spam\n",
      "spam\n"
     ]
    }
   ],
   "source": [
    "spam = 0\n",
    "if spam == 10:\n",
    "    print('eggs')\n",
    "    \n",
    "if spam > 5:\n",
    "    print('bacon')\n",
    "else:\n",
    "    print('ham')\n",
    "    \n",
    "print('spam')\n",
    "print('spam')\n"
   ]
  },
  {
   "cell_type": "markdown",
   "id": "311c02ba",
   "metadata": {},
   "source": [
    "# 8. Write code that prints Hello if 1 is stored in spam, prints Howdy if 2 is stored in spam, and prints Greetings! if anything else is stored in spam."
   ]
  },
  {
   "cell_type": "code",
   "execution_count": 116,
   "id": "f428d250",
   "metadata": {},
   "outputs": [
    {
     "name": "stdout",
     "output_type": "stream",
     "text": [
      "Howdy\n"
     ]
    }
   ],
   "source": [
    "spam=2\n",
    "\n",
    "if spam==1:\n",
    "    print(\"Hello\")\n",
    "elif spam==2:\n",
    "    print(\"Howdy\")\n",
    "else:\n",
    "    print(\"Greetings!\")"
   ]
  },
  {
   "cell_type": "markdown",
   "id": "6552df02",
   "metadata": {},
   "source": [
    "# 9.If your programme is stuck in an endless loop, what keys you’ll press?\n"
   ]
  },
  {
   "cell_type": "markdown",
   "id": "459c1e96",
   "metadata": {},
   "source": [
    "* Ctrl+C for stop an infinite loop."
   ]
  },
  {
   "cell_type": "markdown",
   "id": "054e0641",
   "metadata": {},
   "source": [
    "# 10. How can you tell the difference between break and continue?\n"
   ]
  },
  {
   "cell_type": "markdown",
   "id": "9ed2ef60",
   "metadata": {},
   "source": [
    "* break:\n",
    "    -  The break statement is used to terminate the loop immediately when it is encountered.\n",
    "* continue:\n",
    "    -  The continue statement is used to skip the current iteration of the loop and the control flow of the program goes to the next iteration."
   ]
  },
  {
   "cell_type": "code",
   "execution_count": 118,
   "id": "b6fbd071",
   "metadata": {},
   "outputs": [
    {
     "name": "stdout",
     "output_type": "stream",
     "text": [
      "0\n",
      "1\n"
     ]
    }
   ],
   "source": [
    "#break\n",
    "for i in range(4):\n",
    "    if i == 2:\n",
    "        break\n",
    "    print(i)"
   ]
  },
  {
   "cell_type": "code",
   "execution_count": 120,
   "id": "a3bc7c71",
   "metadata": {},
   "outputs": [
    {
     "name": "stdout",
     "output_type": "stream",
     "text": [
      "0\n",
      "1\n",
      "3\n"
     ]
    }
   ],
   "source": [
    "#continue\n",
    "for i in range(4):\n",
    "    if i == 2:\n",
    "        continue\n",
    "    print(i)"
   ]
  },
  {
   "cell_type": "markdown",
   "id": "205802e8",
   "metadata": {},
   "source": [
    "# 11. In a for loop, what is the difference between range(10), range(0, 10), and range(0, 10, 1)?"
   ]
  },
  {
   "cell_type": "markdown",
   "id": "0e7eaf05",
   "metadata": {},
   "source": [
    "* range(10):\n",
    "    - Create a sequence of numbers from 0 to 10.\n",
    "* range(0, 10):\n",
    "     - Create a sequence of numbers from 0 to 10.\n",
    "* range(0, 10, 1):\n",
    "    - Create a sequence of numbers from 0 to 10, but increment by 1 "
   ]
  },
  {
   "cell_type": "code",
   "execution_count": 4,
   "id": "9f415904",
   "metadata": {},
   "outputs": [
    {
     "name": "stdout",
     "output_type": "stream",
     "text": [
      "0\n",
      "1\n",
      "2\n",
      "3\n",
      "4\n",
      "5\n",
      "6\n",
      "7\n",
      "8\n",
      "9\n"
     ]
    }
   ],
   "source": [
    "for i in range(10):\n",
    "    print(i)"
   ]
  },
  {
   "cell_type": "code",
   "execution_count": 3,
   "id": "d147c14a",
   "metadata": {},
   "outputs": [
    {
     "name": "stdout",
     "output_type": "stream",
     "text": [
      "0\n",
      "1\n",
      "2\n",
      "3\n",
      "4\n",
      "5\n",
      "6\n",
      "7\n",
      "8\n",
      "9\n"
     ]
    }
   ],
   "source": [
    "for i in range(0,10):\n",
    "    print(i)"
   ]
  },
  {
   "cell_type": "code",
   "execution_count": 5,
   "id": "f9d027de",
   "metadata": {},
   "outputs": [
    {
     "name": "stdout",
     "output_type": "stream",
     "text": [
      "0\n",
      "1\n",
      "2\n",
      "3\n",
      "4\n",
      "5\n",
      "6\n",
      "7\n",
      "8\n",
      "9\n"
     ]
    }
   ],
   "source": [
    "for i in range(0,10,1):\n",
    "    print(i)"
   ]
  },
  {
   "cell_type": "markdown",
   "id": "6626ed81",
   "metadata": {},
   "source": [
    "# 12. Write a short program that prints the numbers 1 to 10 using a for loop. Then write an equivalent program that prints the numbers 1 to 10 using a while loop.\n"
   ]
  },
  {
   "cell_type": "code",
   "execution_count": 1,
   "id": "c2714770",
   "metadata": {},
   "outputs": [
    {
     "name": "stdout",
     "output_type": "stream",
     "text": [
      "1\n",
      "2\n",
      "3\n",
      "4\n",
      "5\n",
      "6\n",
      "7\n",
      "8\n",
      "9\n",
      "10\n"
     ]
    }
   ],
   "source": [
    "for i in range(1,11):\n",
    "    print(i)"
   ]
  },
  {
   "cell_type": "code",
   "execution_count": 2,
   "id": "8721bdb6",
   "metadata": {},
   "outputs": [
    {
     "name": "stdout",
     "output_type": "stream",
     "text": [
      "1\n",
      "2\n",
      "3\n",
      "4\n",
      "5\n",
      "6\n",
      "7\n",
      "8\n",
      "9\n",
      "10\n"
     ]
    }
   ],
   "source": [
    "i=1\n",
    "while(i<=10):\n",
    "    print(i)\n",
    "    i+=1"
   ]
  },
  {
   "cell_type": "markdown",
   "id": "7faada6f",
   "metadata": {},
   "source": [
    "# 13. If you had a function named bacon() inside a module named spam, how would you call it after importing spam?\n"
   ]
  },
  {
   "cell_type": "markdown",
   "id": "5c325f88",
   "metadata": {},
   "source": [
    "* spam.bacon()"
   ]
  }
 ],
 "metadata": {
  "kernelspec": {
   "display_name": "Python 3 (ipykernel)",
   "language": "python",
   "name": "python3"
  },
  "language_info": {
   "codemirror_mode": {
    "name": "ipython",
    "version": 3
   },
   "file_extension": ".py",
   "mimetype": "text/x-python",
   "name": "python",
   "nbconvert_exporter": "python",
   "pygments_lexer": "ipython3",
   "version": "3.9.12"
  }
 },
 "nbformat": 4,
 "nbformat_minor": 5
}
