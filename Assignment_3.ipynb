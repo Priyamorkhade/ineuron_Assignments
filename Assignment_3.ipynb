{
 "cells": [
  {
   "cell_type": "markdown",
   "id": "5b458ab7",
   "metadata": {},
   "source": [
    "# 1. Why are functions advantageous to have in your programs?\n"
   ]
  },
  {
   "cell_type": "markdown",
   "id": "e4b0a494",
   "metadata": {},
   "source": [
    "* Functions keeps the program structured, understandable, and reusable. \n",
    "* The function can be reused countless times after it is defined.\n",
    "* Fuctions makes programs shorter, easier to read, and easier to update"
   ]
  },
  {
   "cell_type": "markdown",
   "id": "d3055fa7",
   "metadata": {},
   "source": [
    "# 2. When does the code in a function run: when it's specified or when it's called?"
   ]
  },
  {
   "cell_type": "markdown",
   "id": "aa01fcd0",
   "metadata": {},
   "source": [
    "* The code in a function executes when the function is called."
   ]
  },
  {
   "cell_type": "code",
   "execution_count": 1,
   "id": "36e4e89d",
   "metadata": {},
   "outputs": [
    {
     "data": {
      "text/plain": [
       "9"
      ]
     },
     "execution_count": 1,
     "metadata": {},
     "output_type": "execute_result"
    }
   ],
   "source": [
    "def add(a,b):\n",
    "    c=a+b\n",
    "    return c\n",
    "\n",
    "#function call \n",
    "add(2,7)\n",
    "    "
   ]
  },
  {
   "cell_type": "markdown",
   "id": "467723e6",
   "metadata": {},
   "source": [
    "# 3. What statement creates a function?"
   ]
  },
  {
   "cell_type": "markdown",
   "id": "b3c7f089",
   "metadata": {},
   "source": [
    "* The def keyword is used to create a function."
   ]
  },
  {
   "cell_type": "code",
   "execution_count": 2,
   "id": "e7abb1f7",
   "metadata": {},
   "outputs": [
    {
     "name": "stdout",
     "output_type": "stream",
     "text": [
      "Hello World\n"
     ]
    }
   ],
   "source": [
    "def function_name():\n",
    "    print(\"Hello World\")\n",
    "    \n",
    "\n",
    "function_name()"
   ]
  },
  {
   "cell_type": "markdown",
   "id": "9b9f74fb",
   "metadata": {},
   "source": [
    "# 4. What is the difference between a function and a function call?\n"
   ]
  },
  {
   "cell_type": "markdown",
   "id": "70867123",
   "metadata": {},
   "source": [
    "* A function is a block of code that performs a specific task.\n",
    "\n",
    "* A function call is an expression that invokes a function and executes the code in the function."
   ]
  },
  {
   "cell_type": "code",
   "execution_count": 3,
   "id": "6d38e365",
   "metadata": {},
   "outputs": [
    {
     "data": {
      "text/plain": [
       "9"
      ]
     },
     "execution_count": 3,
     "metadata": {},
     "output_type": "execute_result"
    }
   ],
   "source": [
    "#function\n",
    "def add(a,b):\n",
    "    c=a+b\n",
    "    return c\n",
    "\n",
    "#function call \n",
    "add(2,7)"
   ]
  },
  {
   "cell_type": "markdown",
   "id": "d412f7d3",
   "metadata": {},
   "source": [
    "# 5. How many global scopes are there in a Python program? How many local scopes?"
   ]
  },
  {
   "cell_type": "markdown",
   "id": "257b87c8",
   "metadata": {},
   "source": [
    "* There is one global scope, and a local scope is created whenever a function is called."
   ]
  },
  {
   "cell_type": "markdown",
   "id": "ea0c70a0",
   "metadata": {},
   "source": [
    "# 6. What happens to variables in a local scope when the function call returns?"
   ]
  },
  {
   "cell_type": "markdown",
   "id": "81115336",
   "metadata": {},
   "source": [
    "* When a function returns, the local scope is destroyed, and all the variables in it are forgotten."
   ]
  },
  {
   "cell_type": "markdown",
   "id": "767be983",
   "metadata": {},
   "source": [
    "# 7. What is the concept of a return value? Is it possible to have a return value in an expression?\n"
   ]
  },
  {
   "cell_type": "markdown",
   "id": "10175ec5",
   "metadata": {},
   "source": [
    "* The values that a function returns when it completes.\n",
    "* A value-returning function should include a return statement, containing an expression. If an expression is not given on a return statement in a function declared with a non- void return type, the compiler issues a warning message."
   ]
  },
  {
   "cell_type": "markdown",
   "id": "3207893a",
   "metadata": {},
   "source": [
    "# 8. If a function does not have a return statement, what is the return value of a call to that function?\n"
   ]
  },
  {
   "cell_type": "markdown",
   "id": "c2c33b93",
   "metadata": {},
   "source": [
    "* If there is no return statement for a function, its return value is None.\n",
    "       - Example: when we call to that function add(3,5) it returns none."
   ]
  },
  {
   "cell_type": "code",
   "execution_count": 4,
   "id": "a07c6aa8",
   "metadata": {},
   "outputs": [],
   "source": [
    "def add(a,b):\n",
    "    c=a+b\n",
    "    \n",
    "#function call\n",
    "add(3,5)  "
   ]
  },
  {
   "cell_type": "markdown",
   "id": "6a4255c5",
   "metadata": {},
   "source": [
    "# 9. How do you make a function variable refer to the global variable?\n"
   ]
  },
  {
   "cell_type": "markdown",
   "id": "785f6ddf",
   "metadata": {},
   "source": [
    "* To create a global variable inside a function, you can use the global keyword."
   ]
  },
  {
   "cell_type": "markdown",
   "id": "67863e2d",
   "metadata": {},
   "source": [
    "# 10. What is the data type of None?\n"
   ]
  },
  {
   "cell_type": "markdown",
   "id": "1365cc6e",
   "metadata": {},
   "source": [
    "* The data type of None is NoneType."
   ]
  },
  {
   "cell_type": "code",
   "execution_count": 5,
   "id": "6c55c043",
   "metadata": {},
   "outputs": [
    {
     "data": {
      "text/plain": [
       "NoneType"
      ]
     },
     "execution_count": 5,
     "metadata": {},
     "output_type": "execute_result"
    }
   ],
   "source": [
    "#Example\n",
    "a=None\n",
    "type(a)"
   ]
  },
  {
   "cell_type": "markdown",
   "id": "b9a7bbf3",
   "metadata": {},
   "source": [
    "# 11. What does the sentence import areallyourpetsnamederic do?\n"
   ]
  },
  {
   "cell_type": "markdown",
   "id": "55fd3e08",
   "metadata": {},
   "source": [
    "* That import statement imports a module named areallyourpetsnamederic."
   ]
  },
  {
   "cell_type": "markdown",
   "id": "070f506d",
   "metadata": {},
   "source": [
    "# 12. If you had a bacon() feature in a spam module, what would you call it after importing spam?\n"
   ]
  },
  {
   "cell_type": "markdown",
   "id": "9b5357bc",
   "metadata": {},
   "source": [
    "* This function can be called with spam.bacon()."
   ]
  },
  {
   "cell_type": "markdown",
   "id": "82fecc99",
   "metadata": {},
   "source": [
    "# 13. What can you do to save a programme from crashing if it encounters an error?\n"
   ]
  },
  {
   "cell_type": "markdown",
   "id": "03e1737d",
   "metadata": {},
   "source": [
    "* Place the line of code that might cause an error in a try clause. \n",
    "\n"
   ]
  },
  {
   "cell_type": "markdown",
   "id": "6148e525",
   "metadata": {},
   "source": [
    "# 14. What is the purpose of the try clause? What is the purpose of the except clause?\n"
   ]
  },
  {
   "cell_type": "markdown",
   "id": "58be6017",
   "metadata": {},
   "source": [
    "* The code that could potentially cause an error goes in the try clause.\n",
    "* The code that executes if an error happens goes in the except clause."
   ]
  }
 ],
 "metadata": {
  "kernelspec": {
   "display_name": "Python 3 (ipykernel)",
   "language": "python",
   "name": "python3"
  },
  "language_info": {
   "codemirror_mode": {
    "name": "ipython",
    "version": 3
   },
   "file_extension": ".py",
   "mimetype": "text/x-python",
   "name": "python",
   "nbconvert_exporter": "python",
   "pygments_lexer": "ipython3",
   "version": "3.9.12"
  }
 },
 "nbformat": 4,
 "nbformat_minor": 5
}
