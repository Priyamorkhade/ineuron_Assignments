{
 "cells": [
  {
   "cell_type": "markdown",
   "id": "b50412f2",
   "metadata": {},
   "source": [
    "# 1. What does an empty dictionary's code look like?"
   ]
  },
  {
   "cell_type": "markdown",
   "id": "908fd272",
   "metadata": {},
   "source": [
    "An Empty dictionary is represented using a pair of curly braces {} with no key-value pairs."
   ]
  },
  {
   "cell_type": "code",
   "execution_count": 1,
   "id": "5ec11fd4",
   "metadata": {},
   "outputs": [
    {
     "data": {
      "text/plain": [
       "{}"
      ]
     },
     "execution_count": 1,
     "metadata": {},
     "output_type": "execute_result"
    }
   ],
   "source": [
    "my_dict={}\n",
    "\n",
    "my_dict"
   ]
  },
  {
   "cell_type": "markdown",
   "id": "1e592acd",
   "metadata": {},
   "source": [
    "# 2. What is the value of a dictionary value with the key 'foo' and the value 42?"
   ]
  },
  {
   "cell_type": "code",
   "execution_count": 2,
   "id": "9ab1436f",
   "metadata": {},
   "outputs": [],
   "source": [
    "my_dict1={\"foo\":42}"
   ]
  },
  {
   "cell_type": "code",
   "execution_count": 3,
   "id": "f6a3d1cd",
   "metadata": {},
   "outputs": [
    {
     "data": {
      "text/plain": [
       "42"
      ]
     },
     "execution_count": 3,
     "metadata": {},
     "output_type": "execute_result"
    }
   ],
   "source": [
    "my_dict1['foo'] #the value with the key 'foo' is 42"
   ]
  },
  {
   "cell_type": "markdown",
   "id": "243471df",
   "metadata": {},
   "source": [
    "# 3. What is the most significant distinction between a dictionary and a list?"
   ]
  },
  {
   "cell_type": "markdown",
   "id": "9bf3e479",
   "metadata": {},
   "source": [
    "* Dictionary- \n",
    "     - 1] Dictionaries are collections of key-value pairs & enclosed in curly braces { }.\n",
    "     - 2] Dictionaries are mutable but cannot contain duplicate keys\n",
    "     - 3] Keys are used to access the associated values.eg:- my_dict['Key']\n",
    "* List -\n",
    "     - 1]  Lists are ordered collections of elements that are stored in a sequence & enclosed in paranthesis().\n",
    "     - 2] Lists are mutable and contain duplicate values.\n",
    "     - 3]List elements accessed by their index possition. eg:- my_lst[0] "
   ]
  },
  {
   "cell_type": "markdown",
   "id": "fb36d699",
   "metadata": {},
   "source": [
    "# 4. What happens if you try to access spam['foo'] if spam is {'bar': 100}?"
   ]
  },
  {
   "cell_type": "markdown",
   "id": "62247bfb",
   "metadata": {},
   "source": [
    "if we try to access spam['foo'] then we will get a Key error. Beacause key 'foo' is not in spam dictionary."
   ]
  },
  {
   "cell_type": "code",
   "execution_count": 4,
   "id": "cfd27164",
   "metadata": {},
   "outputs": [
    {
     "ename": "KeyError",
     "evalue": "'foo'",
     "output_type": "error",
     "traceback": [
      "\u001b[1;31m---------------------------------------------------------------------------\u001b[0m",
      "\u001b[1;31mKeyError\u001b[0m                                  Traceback (most recent call last)",
      "Input \u001b[1;32mIn [4]\u001b[0m, in \u001b[0;36m<cell line: 2>\u001b[1;34m()\u001b[0m\n\u001b[0;32m      1\u001b[0m spam\u001b[38;5;241m=\u001b[39m{\u001b[38;5;124m'\u001b[39m\u001b[38;5;124mbar\u001b[39m\u001b[38;5;124m'\u001b[39m:\u001b[38;5;241m100\u001b[39m}\n\u001b[1;32m----> 2\u001b[0m \u001b[43mspam\u001b[49m\u001b[43m[\u001b[49m\u001b[38;5;124;43m'\u001b[39;49m\u001b[38;5;124;43mfoo\u001b[39;49m\u001b[38;5;124;43m'\u001b[39;49m\u001b[43m]\u001b[49m\n",
      "\u001b[1;31mKeyError\u001b[0m: 'foo'"
     ]
    }
   ],
   "source": [
    "spam={'bar':100}\n",
    "spam['foo']"
   ]
  },
  {
   "cell_type": "markdown",
   "id": "5c529e27",
   "metadata": {},
   "source": [
    "# 5. If a dictionary is stored in spam, what is the difference between the expressions 'cat' in spam and 'cat' in spam.keys()?"
   ]
  },
  {
   "cell_type": "markdown",
   "id": "05fcef3b",
   "metadata": {},
   "source": [
    "Both expressions are return True Because 'cat' is availble in spam dictionary.\n",
    "but the differrence between the expressions are excecution process.\n",
    "\n",
    "* 1st expression: Directly checks if the key 'cat' exists within the dictionary 'spam' or not if present Returning True.\n",
    "\n",
    "* 2nd expression: Here we use spam.keys() thats why first accesses the keys of the dictionary using the keys() method then checks 'cat' is a key in the dictionary or not. if present returning True."
   ]
  },
  {
   "cell_type": "code",
   "execution_count": 5,
   "id": "6d851599",
   "metadata": {},
   "outputs": [],
   "source": [
    "spam={'cat':'Meaw','dog':'bhuh'}"
   ]
  },
  {
   "cell_type": "code",
   "execution_count": 6,
   "id": "ce9f0259",
   "metadata": {},
   "outputs": [
    {
     "data": {
      "text/plain": [
       "True"
      ]
     },
     "execution_count": 6,
     "metadata": {},
     "output_type": "execute_result"
    }
   ],
   "source": [
    "'cat' in spam #1st expression"
   ]
  },
  {
   "cell_type": "code",
   "execution_count": 7,
   "id": "fde36017",
   "metadata": {},
   "outputs": [
    {
     "data": {
      "text/plain": [
       "True"
      ]
     },
     "execution_count": 7,
     "metadata": {},
     "output_type": "execute_result"
    }
   ],
   "source": [
    "'cat' in spam.keys() #2nd expression"
   ]
  },
  {
   "cell_type": "markdown",
   "id": "75fc9a85",
   "metadata": {},
   "source": [
    "# 6. If a dictionary is stored in spam, what is the difference between the expressions 'cat' in spam and 'cat' in spam.values()?"
   ]
  },
  {
   "cell_type": "markdown",
   "id": "edc25a3b",
   "metadata": {},
   "source": [
    "* 1st expression: This expression checks if the key 'cat' exists within the dictionary spam. here cat is a value thats why output is False.\n",
    "\n",
    "* 2nd expression: Here we use spam.values() thats why first accesses the Values of the dictionary using the Values() method then checks 'cat' is a Value in the dictionary or not. if present returning True."
   ]
  },
  {
   "cell_type": "code",
   "execution_count": 8,
   "id": "2c8d8682",
   "metadata": {},
   "outputs": [
    {
     "data": {
      "text/plain": [
       "False"
      ]
     },
     "execution_count": 8,
     "metadata": {},
     "output_type": "execute_result"
    }
   ],
   "source": [
    "spam={'pet1':'cat','pet2':'dog'}\n",
    "\n",
    "'cat' in spam #1st expression"
   ]
  },
  {
   "cell_type": "code",
   "execution_count": 9,
   "id": "8a8c2958",
   "metadata": {},
   "outputs": [
    {
     "data": {
      "text/plain": [
       "True"
      ]
     },
     "execution_count": 9,
     "metadata": {},
     "output_type": "execute_result"
    }
   ],
   "source": [
    "'cat' in spam.values() #2nd expression"
   ]
  },
  {
   "cell_type": "markdown",
   "id": "6a26a8e8",
   "metadata": {},
   "source": [
    "# 7. What is a shortcut for the following code?\n",
    "if 'color' not in spam:\n",
    "\n",
    "    spam['color'] = 'black'\n"
   ]
  },
  {
   "cell_type": "code",
   "execution_count": 10,
   "id": "566556c4",
   "metadata": {},
   "outputs": [
    {
     "data": {
      "text/plain": [
       "'black'"
      ]
     },
     "execution_count": 10,
     "metadata": {},
     "output_type": "execute_result"
    }
   ],
   "source": [
    "spam.setdefault('color', 'black')"
   ]
  },
  {
   "cell_type": "markdown",
   "id": "8a375f90",
   "metadata": {},
   "source": [
    "# 8. How do you \"pretty print\" dictionary values using which module and function?\n"
   ]
  },
  {
   "cell_type": "markdown",
   "id": "72e0ce36",
   "metadata": {},
   "source": [
    "The module is pprint.\n",
    "The functions are pprint.pprint() and pprint.pformat()."
   ]
  },
  {
   "cell_type": "code",
   "execution_count": 11,
   "id": "1af26d7e",
   "metadata": {},
   "outputs": [],
   "source": [
    "import pprint"
   ]
  },
  {
   "cell_type": "code",
   "execution_count": 12,
   "id": "b517748c",
   "metadata": {},
   "outputs": [
    {
     "name": "stdout",
     "output_type": "stream",
     "text": [
      "{'City': 'Akola', 'Firstname': 'Priya', 'Lastname': 'Sakkalkar'}\n"
     ]
    }
   ],
   "source": [
    "dict1={\n",
    "    \"Firstname\":\"Priya\",\n",
    "       \"Lastname\":\"Sakkalkar\", \n",
    "       \"City\":\"Akola\",\n",
    "      }\n",
    "\n",
    "pprint.pprint(dict1) #default sort value is true returns alphabetically"
   ]
  },
  {
   "cell_type": "markdown",
   "id": "ef894eea",
   "metadata": {},
   "source": [
    "# THANK YOU!"
   ]
  }
 ],
 "metadata": {
  "kernelspec": {
   "display_name": "Python 3 (ipykernel)",
   "language": "python",
   "name": "python3"
  },
  "language_info": {
   "codemirror_mode": {
    "name": "ipython",
    "version": 3
   },
   "file_extension": ".py",
   "mimetype": "text/x-python",
   "name": "python",
   "nbconvert_exporter": "python",
   "pygments_lexer": "ipython3",
   "version": "3.9.12"
  }
 },
 "nbformat": 4,
 "nbformat_minor": 5
}
