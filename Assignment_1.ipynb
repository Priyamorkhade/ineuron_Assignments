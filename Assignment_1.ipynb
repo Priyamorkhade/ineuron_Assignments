{
 "cells": [
  {
   "cell_type": "markdown",
   "id": "45fa2950",
   "metadata": {},
   "source": [
    "1. In the below elements which of them are values or an expression? eg:- values can be\n",
    "integer or string and expressions will be mathematical operators.\n",
    "*\n",
    "&#39;hello&#39;\n",
    "-87.8\n",
    "-\n",
    "/\n",
    "+\n",
    "6"
   ]
  },
  {
   "cell_type": "markdown",
   "id": "0c447863",
   "metadata": {},
   "source": [
    "* Values: ‘hello’, -87.8, 6\n",
    "\n",
    "\n",
    "* Expressions: *, -, /, +"
   ]
  },
  {
   "cell_type": "markdown",
   "id": "09536bc2",
   "metadata": {},
   "source": [
    "2. What is the difference between string and variable?"
   ]
  },
  {
   "cell_type": "markdown",
   "id": "36d57ced",
   "metadata": {},
   "source": [
    "- Strings are used to record text information.\n",
    "- Strings usually enclosed in Double quotes \" \" or single quotes ' '\n",
    "\n",
    "- A variable is a place where you can store any values.\n",
    "- A variable assignment follows name= Object\n"
   ]
  },
  {
   "cell_type": "markdown",
   "id": "833e025e",
   "metadata": {},
   "source": [
    "3. Describe three different data types."
   ]
  },
  {
   "cell_type": "markdown",
   "id": "1bd186cc",
   "metadata": {},
   "source": [
    "* 1) int (Numerical Data type):  We use integer data type to represents whole  numbers.\n",
    "    They can be positive or negative. \n",
    "    - Eg: x=5\n",
    "\n",
    "* 2)List (Sequence Data Type)\n",
    "    List is an Ordered Collection or sequence of items.\n",
    "    It is mutable and contain different different type of elements.\n",
    "    - Eg: lst1=[1,2,’Hello’,4.2]\n",
    "\n",
    "* 3)Dictionary-(Mapping Type)\n",
    "    Unordered collection of items.\n",
    "    Each items stored in a key-value pair.\n",
    "    Dict elements enclosed in { }  (curly braces)\n",
    "    Mutable and Heterogenous elements\n",
    "    - Eg: person={‘name’:’Priya’, Rollno:101,‘city’:’Akola’}\n"
   ]
  },
  {
   "cell_type": "markdown",
   "id": "169e7ebb",
   "metadata": {},
   "source": [
    "4. What is an expression made up of? What do all expressions do?"
   ]
  },
  {
   "cell_type": "markdown",
   "id": "0d5359aa",
   "metadata": {},
   "source": [
    "* An expression is a combination of values, variables, operators, and calls to functions. \n",
    "    Expressions need to be evaluated. If we ask Python to print an expression, the interpreter evaluates the expression and displays the result."
   ]
  },
  {
   "cell_type": "code",
   "execution_count": 1,
   "id": "1c317db2",
   "metadata": {},
   "outputs": [
    {
     "data": {
      "text/plain": [
       "23"
      ]
     },
     "execution_count": 1,
     "metadata": {},
     "output_type": "execute_result"
    }
   ],
   "source": [
    "10*2+4-1 #This is an Expression, and result is 23"
   ]
  },
  {
   "cell_type": "markdown",
   "id": "e2d183c0",
   "metadata": {},
   "source": [
    "5. This assignment statements, like spam = 10. What is the difference between an expression and a statement?"
   ]
  },
  {
   "cell_type": "code",
   "execution_count": 2,
   "id": "6a568465",
   "metadata": {},
   "outputs": [],
   "source": [
    "spam=10 # statement"
   ]
  },
  {
   "cell_type": "markdown",
   "id": "366cfc30",
   "metadata": {},
   "source": [
    "* An expression is a combination of values, variables, and operators.When we type an expression at the prompt, the interpreter evaluates it, which means that it finds the value of the expression.\n",
    "    - eg: 50*2+4-90\n",
    "    \n",
    "* A statement is a unit of code that has an effect, like creating a variable or displaying a value.When we type a statement, the interpreter executes it, which means that it does whatever the statement says. In general, statements don’t have values.\n",
    "    - eg: variable declaration and assignment are statements because they do not return a value."
   ]
  },
  {
   "cell_type": "code",
   "execution_count": 3,
   "id": "9ae53831",
   "metadata": {},
   "outputs": [
    {
     "name": "stdout",
     "output_type": "stream",
     "text": [
      "Hello World!\n"
     ]
    }
   ],
   "source": [
    "#Example:\n",
    "\n",
    "50*2+4-90 #Expression\n",
    "\n",
    "Myname = 'Priya Sakkalkar' # Is a Statement\n",
    "print(\"Hello World!\") # Is a Expression Statement\n"
   ]
  },
  {
   "cell_type": "markdown",
   "id": "9f558a02",
   "metadata": {},
   "source": [
    "6. After running the following code, what does the variable bacon contain? \n",
    "    bacon = 22 \n",
    "    bacon + 1"
   ]
  },
  {
   "cell_type": "markdown",
   "id": "c0f5a8b7",
   "metadata": {},
   "source": [
    "* bacon contain 22. Beacause bacon is a variable is set to 22. and bacon +1 does not reassign the value in bacon(like bacon=bacon+1) thats why bacon contain 22."
   ]
  },
  {
   "cell_type": "code",
   "execution_count": 4,
   "id": "bfa67efc",
   "metadata": {},
   "outputs": [
    {
     "name": "stdout",
     "output_type": "stream",
     "text": [
      "22\n"
     ]
    }
   ],
   "source": [
    "bacon=22\n",
    "bacon+1\n",
    "print(bacon)"
   ]
  },
  {
   "cell_type": "markdown",
   "id": "3687cece",
   "metadata": {},
   "source": [
    "7. What should the values of the following two terms be?\n",
    "\n",
    "\n",
    "'spam' + 'spamspam'\n",
    "\n",
    "'spam' * 3 \n"
   ]
  },
  {
   "cell_type": "markdown",
   "id": "bcced5ff",
   "metadata": {},
   "source": [
    "- Both expressions result is 'spamspamspam'. Where as the first expression follows String Concatenation and second expression follows String Multiplication."
   ]
  },
  {
   "cell_type": "code",
   "execution_count": 5,
   "id": "79479455",
   "metadata": {},
   "outputs": [
    {
     "data": {
      "text/plain": [
       "'spamspamspam'"
      ]
     },
     "execution_count": 5,
     "metadata": {},
     "output_type": "execute_result"
    }
   ],
   "source": [
    "'spam' + 'spamspam' #string Concatenation"
   ]
  },
  {
   "cell_type": "code",
   "execution_count": 6,
   "id": "41eb27b2",
   "metadata": {},
   "outputs": [
    {
     "data": {
      "text/plain": [
       "'spamspamspam'"
      ]
     },
     "execution_count": 6,
     "metadata": {},
     "output_type": "execute_result"
    }
   ],
   "source": [
    "'spam' * 3 #string multipliction"
   ]
  },
  {
   "cell_type": "markdown",
   "id": "07832bd3",
   "metadata": {},
   "source": [
    "8. Why is eggs a valid variable name while 100 is invalid?"
   ]
  },
  {
   "cell_type": "markdown",
   "id": "40b46a88",
   "metadata": {},
   "source": [
    "- As per python, Variable name can only contain alpha-numeric characters and underscores. eggs contain all alpha-numeric characters thats why eggs is valid variable name.\n",
    "\n",
    "- And as per Python Variable names cannot begin with a number thats why 100 is invalid as variable name."
   ]
  },
  {
   "cell_type": "markdown",
   "id": "3091e092",
   "metadata": {},
   "source": [
    "9. What three functions can be used to get the integer, floating-point number, or string version of a value?\n"
   ]
  },
  {
   "cell_type": "markdown",
   "id": "38278c24",
   "metadata": {},
   "source": [
    "The int(),float(),and str() functions will evaluate to the integer,floating-point number,string version of the value passed to them."
   ]
  },
  {
   "cell_type": "code",
   "execution_count": 7,
   "id": "38d68a41",
   "metadata": {},
   "outputs": [
    {
     "name": "stdout",
     "output_type": "stream",
     "text": [
      "int   9\n",
      "float 8.0\n",
      "str   5\n"
     ]
    }
   ],
   "source": [
    "print('int  ', int(9.5)) # int() function converts given input to int\n",
    "print('float',float(8))  # float() function converts given input to float\n",
    "print('str  ',str(5))    # str() function converts given input to string\n"
   ]
  },
  {
   "cell_type": "markdown",
   "id": "34a7ad1b",
   "metadata": {},
   "source": [
    "10. Why does this expression cause an error? How can you fix it?\n",
    "      'I have eaten ' + 99 + ' burritos.'"
   ]
  },
  {
   "cell_type": "markdown",
   "id": "46e4dc65",
   "metadata": {},
   "source": [
    "Because 99 is not a string. If we convert or typecasted 99 to string to fix this error."
   ]
  },
  {
   "cell_type": "code",
   "execution_count": 8,
   "id": "37effc0a",
   "metadata": {},
   "outputs": [
    {
     "data": {
      "text/plain": [
       "'I have eaten 99 burritos.'"
      ]
     },
     "execution_count": 8,
     "metadata": {},
     "output_type": "execute_result"
    }
   ],
   "source": [
    "'I have eaten ' +str(99) + ' burritos.' #here we typecasted int to string "
   ]
  }
 ],
 "metadata": {
  "kernelspec": {
   "display_name": "Python 3 (ipykernel)",
   "language": "python",
   "name": "python3"
  },
  "language_info": {
   "codemirror_mode": {
    "name": "ipython",
    "version": 3
   },
   "file_extension": ".py",
   "mimetype": "text/x-python",
   "name": "python",
   "nbconvert_exporter": "python",
   "pygments_lexer": "ipython3",
   "version": "3.9.12"
  }
 },
 "nbformat": 4,
 "nbformat_minor": 5
}
