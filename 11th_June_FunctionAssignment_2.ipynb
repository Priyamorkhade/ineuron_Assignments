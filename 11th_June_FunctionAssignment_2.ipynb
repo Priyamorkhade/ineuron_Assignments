{
 "cells": [
  {
   "cell_type": "markdown",
   "id": "64322753",
   "metadata": {},
   "source": [
    "# 1. What is a lambda function in Python, and how does it differ from a regular function?\n"
   ]
  },
  {
   "cell_type": "markdown",
   "id": "b7108ee7",
   "metadata": {},
   "source": [
    "* Lambda function:\n",
    "\n",
    "    - it is an anonymous functions.\n",
    "\n",
    "    - they dont have a name.\n",
    "\n",
    "    - using lambda keyword we create lambda function.\n",
    "\n",
    "* Syntax: lambda arguments: expression\n",
    "\n",
    "    - regular functions are define using def keyword. and lambda function must use lambda keyword.\n",
    "\n",
    "    - return statement use in regular function to return value and in lambda function no need of return statement.\n",
    "\n",
    "    - Excecution time is slow in regular function than lambda function is fast\n",
    "\n",
    "    - lambda function is time saving than regular functions"
   ]
  },
  {
   "cell_type": "markdown",
   "id": "f52ccd54",
   "metadata": {},
   "source": [
    "# 2. Can a lambda function in Python have multiple arguments? If yes, how can you define and use them?"
   ]
  },
  {
   "cell_type": "markdown",
   "id": "9f605d24",
   "metadata": {},
   "source": [
    "yes,lambda function in python have multiple arguments. Input parameters are separated by a comma. The corresponding arguments follow the same order at the time of execution."
   ]
  },
  {
   "cell_type": "code",
   "execution_count": 1,
   "id": "a6e3e8b1",
   "metadata": {},
   "outputs": [],
   "source": [
    "# (lambda a, b, c: a**2 + b**2 + c**2)(2, 3, 4) "
   ]
  },
  {
   "cell_type": "markdown",
   "id": "d56a9f97",
   "metadata": {},
   "source": [
    "# 3. How are lambda functions typically used in Python? Provide an example use case.\n"
   ]
  },
  {
   "cell_type": "markdown",
   "id": "fb8c7270",
   "metadata": {},
   "source": [
    "* Lambda functions in Python are typically used in situations where a small, anonymous function is needed for a short duration. \n",
    "* They are employed for simple operations and are particularly useful in functional programming constructs like map, filter, and   sorted, where you may need to pass a function as an argument.\n",
    "    - Example:-"
   ]
  },
  {
   "cell_type": "code",
   "execution_count": 2,
   "id": "5a53dc51",
   "metadata": {},
   "outputs": [
    {
     "name": "stdout",
     "output_type": "stream",
     "text": [
      "[1, 4, 9, 16, 25]\n"
     ]
    }
   ],
   "source": [
    "numbers = [1, 2, 3, 4, 5]\n",
    "squared_num= list(map(lambda x: x**2, numbers))\n",
    "print(squared_num)"
   ]
  },
  {
   "cell_type": "markdown",
   "id": "8b9c98e3",
   "metadata": {},
   "source": [
    "# 4. What are the advantages and limitations of lambda functions compared to regular functions in Python?\n"
   ]
  },
  {
   "cell_type": "markdown",
   "id": "c7be2967",
   "metadata": {},
   "source": [
    "* Advantages:\n",
    "    - Lambda function allows you to write quick, one-line functions without the need for a formal definition.\n",
    "    - enhance code readability and function logic is defined in a single line.\n",
    "    - Lambda functions are commonly used in functional programming constructs like map, filter, and sorted where a function is passed as an argument.\n",
    "    \n",
    "* Limitations:\n",
    "    - They are suitable for simple operations, but if the function logic becomes complex, it's better to use a regular function.\n",
    "    - Lambda functions are anonymous, meaning they don't have a name. This can make debugging and error messages less informative compared to regular functions.\n",
    "    - Lambda functions do not support documentation strings (docstrings), which are helpful for describing the purpose and usage of a function."
   ]
  },
  {
   "cell_type": "markdown",
   "id": "903dd3c7",
   "metadata": {},
   "source": [
    "# 5. Are lambda functions in Python able to access variables defined outside of their own scope Explain with an example.\n"
   ]
  },
  {
   "cell_type": "markdown",
   "id": "b8c1ddce",
   "metadata": {},
   "source": [
    "- Yes, lambda functions can access variables defined outside their own scope. \n",
    "- A closure allows a function to capture and remember the values of the variables in the enclosing scope, even if the enclosing scope is no longer active."
   ]
  },
  {
   "cell_type": "code",
   "execution_count": 3,
   "id": "eacff8b9",
   "metadata": {},
   "outputs": [
    {
     "name": "stdout",
     "output_type": "stream",
     "text": [
      "addition is : 15\n"
     ]
    }
   ],
   "source": [
    "#addition is a outer function with value a\n",
    "\n",
    "def addition(a):\n",
    "    lambda1=lambda b:a+b   #inner lambda function access variable a \n",
    "    return lambda1\n",
    "\n",
    "#creating closure\n",
    "clo_instance=addition(7)\n",
    "result=clo_instance(8)\n",
    "print(\"addition is :\", result)"
   ]
  },
  {
   "cell_type": "markdown",
   "id": "44c49de0",
   "metadata": {},
   "source": [
    "# 6. Write a lambda function to calculate the square of a given number.\n"
   ]
  },
  {
   "cell_type": "code",
   "execution_count": 4,
   "id": "9cdf5aa3",
   "metadata": {},
   "outputs": [
    {
     "data": {
      "text/plain": [
       "81"
      ]
     },
     "execution_count": 4,
     "metadata": {},
     "output_type": "execute_result"
    }
   ],
   "source": [
    "square=lambda x:x**2\n",
    "square(9)"
   ]
  },
  {
   "cell_type": "markdown",
   "id": "de59b4a5",
   "metadata": {},
   "source": [
    "# 7. Create a lambda function to find the maximum value in a list of integers."
   ]
  },
  {
   "cell_type": "code",
   "execution_count": 5,
   "id": "049b4bff",
   "metadata": {},
   "outputs": [
    {
     "data": {
      "text/plain": [
       "100"
      ]
     },
     "execution_count": 5,
     "metadata": {},
     "output_type": "execute_result"
    }
   ],
   "source": [
    "max_no=lambda lst:int(max(lst))\n",
    "\n",
    "max_no([2,5,3,5,100,8,9])"
   ]
  },
  {
   "cell_type": "markdown",
   "id": "c62ac88b",
   "metadata": {},
   "source": [
    "# 8. Implement a lambda function to filter out all the even numbers from a list of integers."
   ]
  },
  {
   "cell_type": "code",
   "execution_count": 6,
   "id": "a9caaa6d",
   "metadata": {},
   "outputs": [
    {
     "name": "stdout",
     "output_type": "stream",
     "text": [
      "[12, 84, 46, 8, 76]\n"
     ]
    }
   ],
   "source": [
    "lst=[12,73,84,75,46,17,8,9,76]\n",
    "even_no=list(filter(lambda p:p%2==0,lst))\n",
    "\n",
    "print(even_no)"
   ]
  },
  {
   "cell_type": "markdown",
   "id": "2815eb2c",
   "metadata": {},
   "source": [
    "# 9. Write a lambda function to sort a list of strings in ascending order based on the length of each string."
   ]
  },
  {
   "cell_type": "code",
   "execution_count": 7,
   "id": "a2d05120",
   "metadata": {},
   "outputs": [
    {
     "name": "stdout",
     "output_type": "stream",
     "text": [
      "['Red', 'Blue', 'Green', 'Violet', 'Yellow']\n"
     ]
    }
   ],
   "source": [
    "lst=[\"Red\",\"Violet\",\"Yellow\",\"Green\",\"Blue\"]\n",
    "sort=sorted(lst, key=(lambda x:len(x)))\n",
    "\n",
    "print(sort)"
   ]
  },
  {
   "cell_type": "markdown",
   "id": "8380ac5d",
   "metadata": {},
   "source": [
    "# 10. Create a lambda function that takes two lists as input and returns a new list containing the common elements between the two lists.\n"
   ]
  },
  {
   "cell_type": "code",
   "execution_count": 8,
   "id": "9a3a246f",
   "metadata": {},
   "outputs": [
    {
     "name": "stdout",
     "output_type": "stream",
     "text": [
      "[7, 2, 1]\n"
     ]
    }
   ],
   "source": [
    "lst1=[7,9,4,5,2,1]\n",
    "lst2=[3,2,1,8,7]\n",
    "\n",
    "new_lst=lambda lst1, lst2:list(filter(lambda x: x in lst2, lst1))\n",
    "new_lst1=new_lst(lst1,lst2)\n",
    "print(new_lst1)"
   ]
  },
  {
   "cell_type": "markdown",
   "id": "fe472ba3",
   "metadata": {},
   "source": [
    "# 11. Write a recursive function to calculate the factorial of a given positive integer.\n"
   ]
  },
  {
   "cell_type": "code",
   "execution_count": 9,
   "id": "1b0e335e",
   "metadata": {},
   "outputs": [
    {
     "data": {
      "text/plain": [
       "120"
      ]
     },
     "execution_count": 9,
     "metadata": {},
     "output_type": "execute_result"
    }
   ],
   "source": [
    "def recursive_factorial(n):\n",
    "    if n == 1:\n",
    "        return n\n",
    "    else:\n",
    "        return n*recursive_factorial(n-1)\n",
    "    \n",
    "recursive_factorial(5)"
   ]
  },
  {
   "cell_type": "markdown",
   "id": "1ad29c95",
   "metadata": {},
   "source": [
    "# 12. Implement a recursive function to compute the nth Fibonacci number.\n"
   ]
  },
  {
   "cell_type": "code",
   "execution_count": 10,
   "id": "f9f5e140",
   "metadata": {},
   "outputs": [
    {
     "name": "stdout",
     "output_type": "stream",
     "text": [
      "How many terms? 6\n",
      "Fibonacci sequence:\n",
      "0\n",
      "1\n",
      "1\n",
      "2\n",
      "3\n",
      "5\n"
     ]
    },
    {
     "data": {
      "text/plain": [
       "5"
      ]
     },
     "execution_count": 10,
     "metadata": {},
     "output_type": "execute_result"
    }
   ],
   "source": [
    "def recur_fibo(n):  \n",
    "    if n <= 1:  \n",
    "        return n  \n",
    "    else:  \n",
    "        return(recur_fibo(n-1) + recur_fibo(n-2))  \n",
    "\n",
    "nterms = int(input(\"How many terms? \"))  \n",
    "  \n",
    "print(\"Fibonacci sequence:\")  \n",
    "for i in range(nterms):  \n",
    "    print(recur_fibo(i))  \n",
    "    \n",
    "recur_fibo(5)"
   ]
  },
  {
   "cell_type": "markdown",
   "id": "4ec2063d",
   "metadata": {},
   "source": [
    "# 13. Create a recursive function to find the sum of all the elements in a given list.\n"
   ]
  },
  {
   "cell_type": "code",
   "execution_count": 11,
   "id": "7ec771e8",
   "metadata": {},
   "outputs": [
    {
     "name": "stdout",
     "output_type": "stream",
     "text": [
      "20\n"
     ]
    }
   ],
   "source": [
    "def sumAll(lst):\n",
    "    if len(lst)==0:\n",
    "        return 0\n",
    "    else:\n",
    "        return lst[0] + sumAll(lst[1:]) \n",
    "    \n",
    "lst=[3,6,8,1,2]\n",
    "print(sumAll(lst))"
   ]
  },
  {
   "cell_type": "markdown",
   "id": "c68de9b8",
   "metadata": {},
   "source": [
    "# 14. Write a recursive function to determine whether a given string is a palindrome.\n"
   ]
  },
  {
   "cell_type": "code",
   "execution_count": 12,
   "id": "997624e9",
   "metadata": {},
   "outputs": [
    {
     "name": "stdout",
     "output_type": "stream",
     "text": [
      "String is palindrome\n"
     ]
    }
   ],
   "source": [
    "def is_palindrome(s):\n",
    "    if len(s) < 1:\n",
    "        return True\n",
    "    else:\n",
    "        if s[0] == s[-1]:\n",
    "            return is_palindrome(s[1:-1])\n",
    "        else:\n",
    "            return False\n",
    "        \n",
    "st='nayan'        \n",
    "if is_palindrome(st)==True:\n",
    "    print(\"String is palindrome\")\n",
    "else:\n",
    "    print(\"string is not palindrome\")"
   ]
  },
  {
   "cell_type": "markdown",
   "id": "4e4565d2",
   "metadata": {},
   "source": [
    "# 15. Implement a recursive function to find the greatest common divisor (GCD) of two positive integers."
   ]
  },
  {
   "cell_type": "code",
   "execution_count": 13,
   "id": "a583c9c3",
   "metadata": {},
   "outputs": [
    {
     "name": "stdout",
     "output_type": "stream",
     "text": [
      "GCD is:  3\n"
     ]
    }
   ],
   "source": [
    "def gcd(n1,n2):\n",
    "    if(n2==0):\n",
    "        return n1\n",
    "    else:\n",
    "        return gcd(n2,n1%n2)\n",
    "    \n",
    "GCD=gcd(33,45)\n",
    "print(\"GCD is: \",GCD)"
   ]
  }
 ],
 "metadata": {
  "kernelspec": {
   "display_name": "Python 3 (ipykernel)",
   "language": "python",
   "name": "python3"
  },
  "language_info": {
   "codemirror_mode": {
    "name": "ipython",
    "version": 3
   },
   "file_extension": ".py",
   "mimetype": "text/x-python",
   "name": "python",
   "nbconvert_exporter": "python",
   "pygments_lexer": "ipython3",
   "version": "3.9.12"
  }
 },
 "nbformat": 4,
 "nbformat_minor": 5
}
