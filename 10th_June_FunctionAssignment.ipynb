{
 "cells": [
  {
   "cell_type": "markdown",
   "id": "279ddaaa",
   "metadata": {},
   "source": [
    "# 1. In Python, what is the difference between a built-in function and a user-defined function? Provide an example of each.\n"
   ]
  },
  {
   "cell_type": "markdown",
   "id": "33a4ddce",
   "metadata": {},
   "source": [
    "* Built-in Function:\n",
    "    - A function whose prototype already define in library is called Built-in Function.\n",
    "    - In Built-in Function we dont need to write the code.\n",
    "    - The name of Built-in Function can't be changed because its prototype   predefined in the compiler.\n",
    "        - Examples:\n",
    "                    print(), \n",
    "                    len(), \n",
    "                    sqrt(), \n",
    "                    sum(),\n",
    "                    abs()\n",
    "    \n",
    "    \n",
    "* User-deffined Function:\n",
    "    - An function which is created by user as per their own requirement using the programming language's syntax is called User-defined function.\n",
    "    - In User-defined function we have to write a code.\n",
    "    - The name of user define function can be changed.\n",
    "    - syntax: \n",
    "        \n",
    "          def function_name():\n",
    "                statements"
   ]
  },
  {
   "cell_type": "code",
   "execution_count": 4,
   "id": "8639425a",
   "metadata": {},
   "outputs": [
    {
     "name": "stdout",
     "output_type": "stream",
     "text": [
      "Binary value of 10 is : 0b1010\n"
     ]
    }
   ],
   "source": [
    "#Built in function : bin() returns binary number\n",
    "x =  10  \n",
    "y =  bin(x)  \n",
    "print(f\"Binary value of {x} is : {y}\")  "
   ]
  },
  {
   "cell_type": "code",
   "execution_count": 5,
   "id": "174cd4fd",
   "metadata": {},
   "outputs": [
    {
     "name": "stdout",
     "output_type": "stream",
     "text": [
      "This is user defined function\n"
     ]
    }
   ],
   "source": [
    "#User defined function : introduction\n",
    "\n",
    "def introduction():\n",
    "    print(\"This is user defined function\")\n",
    "           \n",
    "        \n",
    "#calling function\n",
    "introduction()\n",
    "    \n"
   ]
  },
  {
   "cell_type": "markdown",
   "id": "f714c0c8",
   "metadata": {},
   "source": [
    "# 2. How can you pass arguments to a function in Python? Explain the difference between positional arguments and keyword arguments."
   ]
  },
  {
   "cell_type": "markdown",
   "id": "c181a332",
   "metadata": {},
   "source": [
    "When we calling a function at that time we pass arguments to function.\n",
    "\n",
    "syntax: function_name(arguments)"
   ]
  },
  {
   "cell_type": "code",
   "execution_count": 6,
   "id": "8317a2ec",
   "metadata": {},
   "outputs": [
    {
     "name": "stdout",
     "output_type": "stream",
     "text": [
      "addition is 65\n"
     ]
    }
   ],
   "source": [
    "#eg :paasing argument to function\n",
    "def addition(a,b):\n",
    "    c=a+b\n",
    "    print(\"addition is\",c)\n",
    "    \n",
    "    \n",
    "addition(11,54) # 11 and 54 are arguments(value of a and b) "
   ]
  },
  {
   "cell_type": "markdown",
   "id": "abc35442",
   "metadata": {},
   "source": [
    " Difference between Positional argument & Keyword arguments.                   \n",
    " \n",
    " \n",
    "* Positional arguments:  Syntax :-FunctionName(value1, value2, value3,....)\n",
    "    \n",
    "    \n",
    "    - Values get assigned as per the sequence of parameter. eg: addition(10,20)\n",
    "    - Order of values cannot be changed to avoid the unexpected output.\n",
    "    \n",
    "    \n",
    "    \n",
    "* Keyword arguments:   Syntax : – FunctionName(paramName = value, ...)\n",
    "    \n",
    "    \n",
    "    - keyword arguments are those where values get assigned to the arguments by their keywords. eg: addition(a=20,b=49)\n",
    "    - Order of parameter Names can be changed to pass the argument(or values).\n",
    "    - Here code more readable and self-explanatory, especially when a function has many parameters.\n",
    "   \n",
    "    "
   ]
  },
  {
   "cell_type": "code",
   "execution_count": 7,
   "id": "d5553aaa",
   "metadata": {},
   "outputs": [
    {
     "name": "stdout",
     "output_type": "stream",
     "text": [
      "100\n"
     ]
    }
   ],
   "source": [
    "def addition(a, b, kwarg1, kwarg2):\n",
    "    c=a+b+kwarg1+kwarg2\n",
    "    print(c)\n",
    "\n",
    "# Valid usage: first possitional then keyword arguments are assigned\n",
    "addition(30, 40, kwarg1=20, kwarg2=10)\n",
    "\n",
    "\n",
    "# here a and b are possitional arguments and kwarg1, kwarg2 are keyword arguments"
   ]
  },
  {
   "cell_type": "markdown",
   "id": "2909a49d",
   "metadata": {},
   "source": [
    "# 3. What is the purpose of the return statement in a function? Can a function have multiple return statements? Explain with an example.\n"
   ]
  },
  {
   "cell_type": "markdown",
   "id": "55bbb486",
   "metadata": {},
   "source": [
    "* purpose : \n",
    "    - providing a result or value back to the caller of the function. \n",
    "    - return statement allows you to communicate the outcome of a function's computation to the rest of your program.\n",
    "    \n",
    "A function can indeed have multiple return statements, but only one of them will be executed, and it depends on the flow of control in the function. Once a return statement is encountered, the function will exit, and the specified value will be returned to the caller.\n"
   ]
  },
  {
   "cell_type": "code",
   "execution_count": 8,
   "id": "12709138",
   "metadata": {},
   "outputs": [
    {
     "name": "stdout",
     "output_type": "stream",
     "text": [
      "Enter for addition: 1 , substraction: 2, multiplication: 3 \n",
      "3\n"
     ]
    },
    {
     "data": {
      "text/plain": [
       "200"
      ]
     },
     "execution_count": 8,
     "metadata": {},
     "output_type": "execute_result"
    }
   ],
   "source": [
    "#example of multiple return statement in function\n",
    "def calc(a,b):\n",
    "    ch=int(input(\"Enter for addition: 1 , substraction: 2, multiplication: 3 \\n\"))\n",
    "    if ch==1:\n",
    "        addion=a+b\n",
    "        return addion\n",
    "    elif ch==2:\n",
    "        substraction=a-b\n",
    "        return substraction\n",
    "    elif ch==3:\n",
    "        multiplication=a*b\n",
    "        return multiplication\n",
    "    else:\n",
    "        return \"Enter proper choice 1/2/3\"\n",
    "\n",
    "\n",
    "calc(10,20)"
   ]
  },
  {
   "cell_type": "markdown",
   "id": "29fbc284",
   "metadata": {},
   "source": [
    "# 4. What are lambda functions in Python? How are they different from regular functions? Provide an example where a lambda function can be useful."
   ]
  },
  {
   "cell_type": "markdown",
   "id": "ce958053",
   "metadata": {},
   "source": [
    "* Lambda function: \n",
    "    - it is an anonymous functions.\n",
    "    - they dont have a name.\n",
    "    - using lambda keyword we create lambda function.\n",
    "    \n",
    "   Syntax: lambda arguments: expression\n",
    " \n",
    "* regular functions are define using def keyword. and lambda function must use lambda keyword.\n",
    "* return statement use in regular function to return value and in lambda function no need of return statement.\n",
    "* Excecution time is slow in regular function than lambda function is fast \n",
    "* lambda function is time saving than regular functions\n",
    "    "
   ]
  },
  {
   "cell_type": "code",
   "execution_count": 9,
   "id": "13bd95dd",
   "metadata": {},
   "outputs": [
    {
     "name": "stdout",
     "output_type": "stream",
     "text": [
      "[(4, 1), (3, 2), (1, 5), (2, 8)]\n"
     ]
    }
   ],
   "source": [
    "data = [(1, 5), (3, 2), (2, 8), (4, 1)]\n",
    "\n",
    "# Sort the list based on the second element of each tuple\n",
    "sorted_data = sorted(data, key=lambda x: x[1])\n",
    "\n",
    "print(sorted_data)\n"
   ]
  },
  {
   "cell_type": "markdown",
   "id": "40608da9",
   "metadata": {},
   "source": [
    "# 5. How does the concept of \"scope\" apply to functions in Python? Explain the difference between local scope and global scope."
   ]
  },
  {
   "cell_type": "markdown",
   "id": "101889f8",
   "metadata": {},
   "source": [
    "The concept of \"scope\" refers to the region within a program where a particular variable or name is recognized and can be used.\n",
    "There are two types of scope: 1] local scope & 2] global scope\n",
    "\n",
    "* Local scope, also known as function scope, refers to the area within a function where a variable is defined.\n",
    "* Global scope refers to the outermost level of a Python script or module, outside of any functions.\n",
    "\n",
    "\n",
    "* Variables defined within a function are said to be in local scope and are only accessible from within that function.\n",
    "* Global variables persist throughout the program's execution and are available to all functions and code within the script.\n",
    "\n",
    "\n",
    "* Local variables are temporary and are destroyed when the function's execution is completed. They cannot be accessed from outside the function.\n",
    "* Variables defined at this level are called global variables and can be accessed from anywhere within the script or module."
   ]
  },
  {
   "cell_type": "code",
   "execution_count": 10,
   "id": "93dc287d",
   "metadata": {},
   "outputs": [
    {
     "name": "stdout",
     "output_type": "stream",
     "text": [
      " Name is : Priya Sakkalkar \n",
      " city is: Akola\n",
      "Akola\n"
     ]
    },
    {
     "ename": "NameError",
     "evalue": "name 'first_name' is not defined",
     "output_type": "error",
     "traceback": [
      "\u001b[1;31m---------------------------------------------------------------------------\u001b[0m",
      "\u001b[1;31mNameError\u001b[0m                                 Traceback (most recent call last)",
      "Input \u001b[1;32mIn [10]\u001b[0m, in \u001b[0;36m<cell line: 13>\u001b[1;34m()\u001b[0m\n\u001b[0;32m      9\u001b[0m my_info()\n\u001b[0;32m     11\u001b[0m \u001b[38;5;28mprint\u001b[39m(city)  \u001b[38;5;66;03m#access outside of function also\u001b[39;00m\n\u001b[1;32m---> 13\u001b[0m \u001b[38;5;28mprint\u001b[39m(\u001b[43mfirst_name\u001b[49m)\n",
      "\u001b[1;31mNameError\u001b[0m: name 'first_name' is not defined"
     ]
    }
   ],
   "source": [
    "city=\"Akola\"     #global scope \n",
    "\n",
    "def my_info():  \n",
    "    first_name=\"Priya\"  # local variable within function\n",
    "    last_name=\"Sakkalkar\"\n",
    "    \n",
    "    print(f\" Name is : {first_name} {last_name} \\n city is: {city}\")\n",
    "    \n",
    "my_info()\n",
    "\n",
    "print(city)  #access outside of function also\n",
    "\n",
    "print(first_name) # local variable cant access outside of function thats y error occurrs"
   ]
  },
  {
   "cell_type": "markdown",
   "id": "c7b92dc8",
   "metadata": {},
   "source": [
    "# 6. How can you use the \"return\" statement in a Python function to return multiple values?"
   ]
  },
  {
   "cell_type": "markdown",
   "id": "81025784",
   "metadata": {},
   "source": [
    "return multiple values by simply separating them with commas in the return statement."
   ]
  },
  {
   "cell_type": "code",
   "execution_count": 11,
   "id": "254d9246",
   "metadata": {},
   "outputs": [
    {
     "data": {
      "text/plain": [
       "(10, 20, 30)"
      ]
     },
     "execution_count": 11,
     "metadata": {},
     "output_type": "execute_result"
    }
   ],
   "source": [
    "def get_values():\n",
    "    x = 10\n",
    "    y = 20\n",
    "    z = 30\n",
    "    return x, y, z \n",
    "\n",
    "get_values()"
   ]
  },
  {
   "cell_type": "markdown",
   "id": "f3ee1d18",
   "metadata": {},
   "source": [
    "# 7. What is the difference between the \"pass by value\" and \"pass by reference\" concepts when it comes to function arguments in Python?"
   ]
  },
  {
   "cell_type": "markdown",
   "id": "aa6bf9eb",
   "metadata": {},
   "source": [
    "* Pass by value (for immutable objects):\n",
    "\n",
    "    - When you pass an immutable object, such as an integer, float, string, or tuple, to a function, the value itself is passed to the function.\n",
    "    - However, since these objects are immutable, any operation that appears to modify the object actually creates a new object, leaving the original object unchanged.\n",
    "    - Changes made to the parameter inside the function do not affect the original object outside the function.\n",
    "    \n",
    "    \n",
    "* Pass by reference (for mutable objects):\n",
    "\n",
    "    - When you pass a mutable object, such as a list or dictionary, to a function, the reference to the object is passed.\n",
    "    - Changes made to the object inside the function are reflected outside the function since they are working with the same underlying object."
   ]
  },
  {
   "cell_type": "code",
   "execution_count": 12,
   "id": "f846e9ad",
   "metadata": {},
   "outputs": [
    {
     "name": "stdout",
     "output_type": "stream",
     "text": [
      "Inside function: 6\n",
      "Outside function: 5\n"
     ]
    }
   ],
   "source": [
    "#pass by value\n",
    "\n",
    "def modify_value(x):\n",
    "    x = x + 1\n",
    "    print(\"Inside function:\", x)\n",
    "\n",
    "value = 5\n",
    "modify_value(value)\n",
    "print(\"Outside function:\", value)"
   ]
  },
  {
   "cell_type": "code",
   "execution_count": 13,
   "id": "92e385ba",
   "metadata": {},
   "outputs": [
    {
     "name": "stdout",
     "output_type": "stream",
     "text": [
      "Inside function: [1, 2, 3, 4]\n",
      "Outside function: [1, 2, 3, 4]\n"
     ]
    }
   ],
   "source": [
    "#pass by reference\n",
    "\n",
    "def modify_list(lst):\n",
    "    lst.append(4)\n",
    "    print(\"Inside function:\", lst)\n",
    "\n",
    "my_list = [1, 2, 3]\n",
    "modify_list(my_list)\n",
    "print(\"Outside function:\", my_list)"
   ]
  },
  {
   "cell_type": "markdown",
   "id": "a69190d8",
   "metadata": {},
   "source": [
    "# 8. Create a function that can intake integer or decimal value and do following operations:\n",
    "    a. Logarithmic function (log x)\n",
    "    b. Exponential function (exp(x))\n",
    "    c. Power function with base 2 (2x)\n",
    "    d. Square root"
   ]
  },
  {
   "cell_type": "code",
   "execution_count": 14,
   "id": "fbc06d1f",
   "metadata": {},
   "outputs": [
    {
     "name": "stdout",
     "output_type": "stream",
     "text": [
      " logarithm of 5 is: 1.6094379124341003 \n",
      " exponential of 5 is: 148.4131591025766 \n",
      " power of 5 is: 32 \n",
      " square root of 5 is: 2.23606797749979\n"
     ]
    }
   ],
   "source": [
    "import math\n",
    "\n",
    "def my_func(x):\n",
    "    log=math.log(x)\n",
    "    exp=math.exp(x)\n",
    "    power=2 ** x\n",
    "    sq=math.sqrt(x)\n",
    "    print(f\" logarithm of {x} is: {log} \\n exponential of {x} is: {exp} \\n power of {x} is: {power} \\n square root of {x} is: {sq}\")\n",
    "    \n",
    "my_func(5)\n",
    "    \n"
   ]
  },
  {
   "cell_type": "markdown",
   "id": "1396d1fa",
   "metadata": {},
   "source": [
    "# 9. Create a function that takes a full name as an argument and returns first name and last name"
   ]
  },
  {
   "cell_type": "code",
   "execution_count": 15,
   "id": "30ecabd0",
   "metadata": {},
   "outputs": [
    {
     "name": "stdout",
     "output_type": "stream",
     "text": [
      " First Name is: Priya \n",
      " Last Name is : Sakkalkar\n"
     ]
    }
   ],
   "source": [
    "def fullName(full_name):\n",
    "    name=full_name.split(\" \")\n",
    "    fname=name[0]\n",
    "    lname=name[1]\n",
    "    \n",
    "    return fname, lname\n",
    "\n",
    "\n",
    "f,l=fullName(\"Priya Sakkalkar\")\n",
    "print(f\" First Name is: {f} \\n Last Name is : {l}\")"
   ]
  }
 ],
 "metadata": {
  "kernelspec": {
   "display_name": "Python 3 (ipykernel)",
   "language": "python",
   "name": "python3"
  },
  "language_info": {
   "codemirror_mode": {
    "name": "ipython",
    "version": 3
   },
   "file_extension": ".py",
   "mimetype": "text/x-python",
   "name": "python",
   "nbconvert_exporter": "python",
   "pygments_lexer": "ipython3",
   "version": "3.9.12"
  }
 },
 "nbformat": 4,
 "nbformat_minor": 5
}
