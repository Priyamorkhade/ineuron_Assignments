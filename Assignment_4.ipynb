{
 "cells": [
  {
   "cell_type": "markdown",
   "id": "e4361032",
   "metadata": {},
   "source": [
    "# 1. What exactly is []?\n"
   ]
  },
  {
   "cell_type": "markdown",
   "id": "24b109af",
   "metadata": {},
   "source": [
    "* The empty list value, which is a list value that contains no items."
   ]
  },
  {
   "cell_type": "code",
   "execution_count": 1,
   "id": "ebe18fc1",
   "metadata": {},
   "outputs": [
    {
     "data": {
      "text/plain": [
       "list"
      ]
     },
     "execution_count": 1,
     "metadata": {},
     "output_type": "execute_result"
    }
   ],
   "source": [
    "lst=[]\n",
    "type(lst)"
   ]
  },
  {
   "cell_type": "markdown",
   "id": "b0bf6919",
   "metadata": {},
   "source": [
    "# 2. In a list of values stored in a variable called spam, how would you assign the value 'hello' as the third value? (Assume [2, 4, 6, 8, 10] are in spam.)"
   ]
  },
  {
   "cell_type": "code",
   "execution_count": 2,
   "id": "39cb42e3",
   "metadata": {},
   "outputs": [
    {
     "data": {
      "text/plain": [
       "[2, 4, 'hello', 8, 10]"
      ]
     },
     "execution_count": 2,
     "metadata": {},
     "output_type": "execute_result"
    }
   ],
   "source": [
    "spam=[2, 4, 6, 8, 10] \n",
    "spam[2]='hello'\n",
    "spam"
   ]
  },
  {
   "cell_type": "markdown",
   "id": "2eead051",
   "metadata": {},
   "source": [
    "# Let's pretend the spam includes the list ['a', 'b', 'c', 'd'] for the next three queries.\n"
   ]
  },
  {
   "cell_type": "code",
   "execution_count": 3,
   "id": "98b621b3",
   "metadata": {},
   "outputs": [],
   "source": [
    "spam=['a', 'b', 'c', 'd'] "
   ]
  },
  {
   "cell_type": "markdown",
   "id": "847dca68",
   "metadata": {},
   "source": [
    "# 3. What is the value of spam[int(int('3' * 2) / 11)]?\n"
   ]
  },
  {
   "cell_type": "code",
   "execution_count": 4,
   "id": "a759373c",
   "metadata": {},
   "outputs": [
    {
     "data": {
      "text/plain": [
       "'d'"
      ]
     },
     "execution_count": 4,
     "metadata": {},
     "output_type": "execute_result"
    }
   ],
   "source": [
    "spam[int(int('3' * 2) / 11)]"
   ]
  },
  {
   "cell_type": "markdown",
   "id": "964b57f5",
   "metadata": {},
   "source": [
    "# 4. What is the value of spam[-1]?\n"
   ]
  },
  {
   "cell_type": "code",
   "execution_count": 5,
   "id": "2d59fef2",
   "metadata": {},
   "outputs": [
    {
     "data": {
      "text/plain": [
       "'d'"
      ]
     },
     "execution_count": 5,
     "metadata": {},
     "output_type": "execute_result"
    }
   ],
   "source": [
    "spam[-1]"
   ]
  },
  {
   "cell_type": "markdown",
   "id": "99fbecf8",
   "metadata": {},
   "source": [
    "# 5. What is the value of spam[:2]? "
   ]
  },
  {
   "cell_type": "code",
   "execution_count": 6,
   "id": "3e5e2ed1",
   "metadata": {},
   "outputs": [
    {
     "data": {
      "text/plain": [
       "['a', 'b']"
      ]
     },
     "execution_count": 6,
     "metadata": {},
     "output_type": "execute_result"
    }
   ],
   "source": [
    "spam[:2]"
   ]
  },
  {
   "cell_type": "markdown",
   "id": "16c9d0dc",
   "metadata": {},
   "source": [
    "# Let's pretend bacon has the list [3.14, 'cat,' 11, 'cat,' True] for the next three questions."
   ]
  },
  {
   "cell_type": "code",
   "execution_count": 7,
   "id": "cd04b237",
   "metadata": {},
   "outputs": [],
   "source": [
    "bacon=[3.14, 'cat', 11, 'cat', True]"
   ]
  },
  {
   "cell_type": "markdown",
   "id": "05cf9627",
   "metadata": {},
   "source": [
    "# 6. What is the value of bacon.index('cat')?\n"
   ]
  },
  {
   "cell_type": "code",
   "execution_count": 8,
   "id": "2c321f35",
   "metadata": {},
   "outputs": [
    {
     "data": {
      "text/plain": [
       "1"
      ]
     },
     "execution_count": 8,
     "metadata": {},
     "output_type": "execute_result"
    }
   ],
   "source": [
    "bacon.index('cat')"
   ]
  },
  {
   "cell_type": "markdown",
   "id": "6cf84d2b",
   "metadata": {},
   "source": [
    "# 7. How does bacon.append(99) change the look of the list value in bacon?\n"
   ]
  },
  {
   "cell_type": "code",
   "execution_count": 9,
   "id": "3f59aeb8",
   "metadata": {},
   "outputs": [],
   "source": [
    "bacon.append(99) #adding 99 to end of the list"
   ]
  },
  {
   "cell_type": "markdown",
   "id": "eb6d558d",
   "metadata": {},
   "source": [
    "# 8. How does bacon.remove('cat') change the look of the list in bacon?"
   ]
  },
  {
   "cell_type": "code",
   "execution_count": 10,
   "id": "7c9359f5",
   "metadata": {},
   "outputs": [
    {
     "data": {
      "text/plain": [
       "[3.14, 11, 'cat', True, 99]"
      ]
     },
     "execution_count": 10,
     "metadata": {},
     "output_type": "execute_result"
    }
   ],
   "source": [
    "bacon.remove('cat') #remove first 'cat' from bacon\n",
    "bacon"
   ]
  },
  {
   "cell_type": "markdown",
   "id": "1c337ba2",
   "metadata": {},
   "source": [
    "# 9. What are the list concatenation and list replication operators?"
   ]
  },
  {
   "cell_type": "markdown",
   "id": "ecd24748",
   "metadata": {},
   "source": [
    "* list concatenation operator is + and replication operator is *.\n",
    " - example:-"
   ]
  },
  {
   "cell_type": "code",
   "execution_count": 11,
   "id": "740263dc",
   "metadata": {},
   "outputs": [
    {
     "name": "stdout",
     "output_type": "stream",
     "text": [
      "['p', 'q', 'r', 2, 4, 6, 8, 9]\n",
      "[2, 4, 6, 8, 9, 2, 4, 6, 8, 9]\n"
     ]
    }
   ],
   "source": [
    "list1=['p','q','r']\n",
    "list2=[2,4,6,8,9]\n",
    "\n",
    "#concatenation '+'\n",
    "print(list1+list2)\n",
    "\n",
    "#replication '*'\n",
    "print(list2*2)\n"
   ]
  },
  {
   "cell_type": "markdown",
   "id": "1d42661d",
   "metadata": {},
   "source": [
    "# 10. What is difference between the list methods append() and insert()?"
   ]
  },
  {
   "cell_type": "markdown",
   "id": "135e315e",
   "metadata": {},
   "source": [
    "* append():\n",
    "    - append() method add specified item permenently to the list.\n",
    "* insert():\n",
    "    - insert() method insert object at specified index."
   ]
  },
  {
   "cell_type": "code",
   "execution_count": 12,
   "id": "b3d31738",
   "metadata": {},
   "outputs": [
    {
     "name": "stdout",
     "output_type": "stream",
     "text": [
      "['Priya', 'Neha', 'Viha', 'Jiya']\n",
      "['Priya', 'Rija', 'Neha', 'Viha', 'Jiya']\n"
     ]
    }
   ],
   "source": [
    "list1=['Priya','Neha','Viha']\n",
    "\n",
    "list1.append('Jiya')\n",
    "print(list1)\n",
    "\n",
    "list1.insert(1,'Rija')\n",
    "print(list1)"
   ]
  },
  {
   "cell_type": "markdown",
   "id": "99c33756",
   "metadata": {},
   "source": [
    "# 11. What are the two methods for removing items from a list?"
   ]
  },
  {
   "cell_type": "markdown",
   "id": "cc3933e1",
   "metadata": {},
   "source": [
    "* remove(): remove() method removes an item from a list by its value.\n",
    "\n",
    "\n",
    "* pop(): By default pop takes off the last index, but you can also specify which index to pop off."
   ]
  },
  {
   "cell_type": "code",
   "execution_count": 13,
   "id": "78f54e24",
   "metadata": {},
   "outputs": [
    {
     "name": "stdout",
     "output_type": "stream",
     "text": [
      "['kiwi', 'watermelon']\n",
      "['kiwi']\n"
     ]
    }
   ],
   "source": [
    "list1=['banana','kiwi','watermelon']\n",
    "\n",
    "list1.remove('banana')\n",
    "print(list1)\n",
    "\n",
    "list1.pop(1)\n",
    "print(list1)"
   ]
  },
  {
   "cell_type": "markdown",
   "id": "616c6c7b",
   "metadata": {},
   "source": [
    "# 12. Describe how list values and string values are identical."
   ]
  },
  {
   "cell_type": "markdown",
   "id": "3759b426",
   "metadata": {},
   "source": [
    "- List and strings store elements in a specific order.\n",
    "- Elements in both lists and strings can be accessed using indices.\n",
    "- Both lists and strings support slicing."
   ]
  },
  {
   "cell_type": "markdown",
   "id": "f424898b",
   "metadata": {},
   "source": [
    "# 13. What's the difference between tuples and lists?"
   ]
  },
  {
   "cell_type": "markdown",
   "id": "70d52054",
   "metadata": {},
   "source": [
    "**List**\t\n",
    "- It is mutable\t\n",
    "- The implication of iterations is time-consuming in the list.\t\n",
    "- Operations like insertion and deletion are better performed.\t\n",
    "- Consumes more memory.\tConsumes less memory.\n",
    "- Many built-in methods are available.\t\n",
    "- Unexpected errors and changes can easily occur in lists.\n",
    " \n",
    "**Tuple**\n",
    "- It is immutable\n",
    "- Implications of iterations are much faster in tuples.\n",
    "- Elements can be accessed better.\n",
    "- Does not have many built-in methods.\n",
    "- Unexpected errors and changes rarely occur in tuples."
   ]
  },
  {
   "cell_type": "markdown",
   "id": "a8b9c3cd",
   "metadata": {},
   "source": [
    "# 14. How do you type a tuple value that only contains the integer 42?"
   ]
  },
  {
   "cell_type": "markdown",
   "id": "f2a1bc4c",
   "metadata": {},
   "source": [
    "* A tuple containing the integer 42 by using parentheses () and comma , after the integer 42. The comma is necessary to indicate that it's a tuple with one element. Without the comma, it would be interpreted as an integer in parentheses, not a tuple."
   ]
  },
  {
   "cell_type": "code",
   "execution_count": 14,
   "id": "fe34a5a6",
   "metadata": {},
   "outputs": [
    {
     "data": {
      "text/plain": [
       "tuple"
      ]
     },
     "execution_count": 14,
     "metadata": {},
     "output_type": "execute_result"
    }
   ],
   "source": [
    "tup=(42,)\n",
    "type(tup)"
   ]
  },
  {
   "cell_type": "markdown",
   "id": "bc08b751",
   "metadata": {},
   "source": [
    "# 15. How do you get a list value's tuple form? How do you get a tuple value's list form?"
   ]
  },
  {
   "cell_type": "code",
   "execution_count": 15,
   "id": "c9c9e47b",
   "metadata": {},
   "outputs": [
    {
     "name": "stdout",
     "output_type": "stream",
     "text": [
      "(2, 4, 6, 'hi', 8)\n",
      "------------------------------\n",
      "['hello', 'Bye', 'hi']\n"
     ]
    },
    {
     "data": {
      "text/plain": [
       "list"
      ]
     },
     "execution_count": 15,
     "metadata": {},
     "output_type": "execute_result"
    }
   ],
   "source": [
    "#list values tuple form\n",
    "lst=[2,4,6,'hi',8]\n",
    "\n",
    "tup=tuple(lst)\n",
    "print(tup)\n",
    "print('-'*30)\n",
    "\n",
    "\n",
    "#tuple value's list form\n",
    "tup1=('hello','Bye','hi')\n",
    "\n",
    "list1=list(tup1)\n",
    "print(list1)\n",
    "type(list1)"
   ]
  },
  {
   "cell_type": "markdown",
   "id": "4e4c412e",
   "metadata": {},
   "source": [
    "# 16. Variables that \"contain\" list values are not necessarily lists themselves. Instead, what do they contain?"
   ]
  },
  {
   "cell_type": "markdown",
   "id": "63f70fbc",
   "metadata": {},
   "source": [
    "* variables don't directly \"contain\" the entire list but rather hold a reference to the memory location where the list is stored.Thats why when we made change in origional list the variable that \"contain\" list values directly affected. "
   ]
  },
  {
   "cell_type": "code",
   "execution_count": 16,
   "id": "85989a96",
   "metadata": {},
   "outputs": [
    {
     "name": "stdout",
     "output_type": "stream",
     "text": [
      "[2, 5, 'hi', 'bye']\n",
      "[2, 5, 'blue', 'bye']\n"
     ]
    }
   ],
   "source": [
    "list1=[2,5,'hi','bye']\n",
    "var=list1\n",
    "print(var)\n",
    "\n",
    "list1[2]='blue'\n",
    "print(var)"
   ]
  },
  {
   "cell_type": "markdown",
   "id": "537c8f2d",
   "metadata": {},
   "source": [
    "# 17. How do you distinguish between copy.copy() and copy.deepcopy()?\n",
    "\n"
   ]
  },
  {
   "cell_type": "markdown",
   "id": "95aab18a",
   "metadata": {},
   "source": [
    "* copy.copy(): \n",
    "    - creates a shallow copy of an object. \n",
    "    - means that the outer object is copied, but the inner objects are still references to the same objects as the original. \n",
    "    - It does not create new instances of the objects inside the original.\n",
    "    \n",
    "* copy.deepcopy(): \n",
    "    - creates a deep copy of an object. \n",
    "    - It recursively creates new instances of all the objects found in the original, so changes to the original do not affect the copy, and vice versa."
   ]
  },
  {
   "cell_type": "code",
   "execution_count": 17,
   "id": "b8ddc4db",
   "metadata": {},
   "outputs": [
    {
     "name": "stdout",
     "output_type": "stream",
     "text": [
      "[1, 2, 3, ['hello', 5]]\n",
      "[1, 2, 3, [4, 5]]\n"
     ]
    }
   ],
   "source": [
    "import copy\n",
    "\n",
    "lst=[1,2,3,[4,5]]\n",
    "copy_lst=copy.copy(lst) #copy.copy()\n",
    "\n",
    "lst[3][0]='hello'\n",
    "print(copy_lst)\n",
    "\n",
    "\n",
    "\n",
    "lst=[1,2,3,[4,5]]\n",
    "deep_copy=copy.deepcopy(lst) #copy.deepcopy()\n",
    "\n",
    "lst[3][0]='hello'\n",
    "\n",
    "print(deep_copy)\n"
   ]
  }
 ],
 "metadata": {
  "kernelspec": {
   "display_name": "Python 3 (ipykernel)",
   "language": "python",
   "name": "python3"
  },
  "language_info": {
   "codemirror_mode": {
    "name": "ipython",
    "version": 3
   },
   "file_extension": ".py",
   "mimetype": "text/x-python",
   "name": "python",
   "nbconvert_exporter": "python",
   "pygments_lexer": "ipython3",
   "version": "3.9.12"
  }
 },
 "nbformat": 4,
 "nbformat_minor": 5
}
